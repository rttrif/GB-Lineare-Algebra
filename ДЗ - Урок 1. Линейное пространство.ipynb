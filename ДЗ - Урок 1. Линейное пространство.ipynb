{
 "cells": [
  {
   "cell_type": "markdown",
   "metadata": {},
   "source": [
    "# Урок 1. Линейное пространство"
   ]
  },
  {
   "cell_type": "markdown",
   "metadata": {},
   "source": [
    "## Линейное пространство. Основные понятия. Часть 1"
   ]
  },
  {
   "cell_type": "markdown",
   "metadata": {
    "ExecuteTime": {
     "end_time": "2019-09-08T04:51:59.975174Z",
     "start_time": "2019-09-08T04:51:59.967197Z"
    }
   },
   "source": [
    "#### __1.__ Исследовать на линейную зависимость:\n",
    "$$f_{1}(x)=e^{x}, f_{2}(x)=1, f_{3}(x)=x+1, f_{4}(x)=x-e^{x}.$$"
   ]
  },
  {
   "cell_type": "markdown",
   "metadata": {},
   "source": [
    "Для того, чтобы некоторое множество элементов линейного пространства было линейно зависимым, необходимо и достаточно, чтобы один из этих элементов являлся линейной комбинацией остальных.  \n",
    "\n",
    "\n",
    "$f_{4}(x) = f_{3}(x) - f_{2}(x) - f_{1}(x)$ = $x-e^{x} = x+1 - 1 - e^{x}$ = $x-e^{x}$  \n",
    "\n",
    "\n",
    "Так как $f_{4}(x)=x-e^{x}$ является линейной комбинацией $f_{1}(x)=e^{x}, f_{2}(x)=1, f_{3}(x)=x+1$, то $f_{1}(x), f_{2}(x), f_{3}(x), f_{4}(x)$ линейной зависимы.\n"
   ]
  },
  {
   "cell_type": "markdown",
   "metadata": {},
   "source": [
    "#### __2.__ Исследовать на линейную зависимость:\n",
    "$$f_{1}(x)=2, f_{2}(x)=x, f_{3}(x)=x^{2}, f_{4}(x)=(x+1)^{2}.$$"
   ]
  },
  {
   "cell_type": "markdown",
   "metadata": {},
   "source": [
    "Разложим $f_{4}(x)$ по формуле квадрата суммы:  \n",
    "$f_{4}(x)=(x+1)^{2} = x{^2} + 2x + 1$  \n",
    "\n",
    "Выразим $f_{4}(x)$ через линейную комбиницаю 𝑓1(𝑥)=2, 𝑓2(𝑥)=𝑥, 𝑓3(𝑥)=𝑥2:  \n",
    "$f_{4}(x)$ = $1 * f_{3}(x) + 2 * f_{2}(x) + 1/2 * f_{1}(x)$ = $x{^2} + 2x + 1$\n",
    "\n",
    "Для того, чтобы некоторое множество элементов линейного пространства было линейно зависимым, необходимо и достаточно, чтобы один из этих элементов являлся линейной комбинацией остальных.  \n",
    "\n",
    "Так как $f_{4}(x)$ является линейной комбинацией $f_{1}(x)=2, f_{2}(x)=x, f_{3}(x)=x^{2}$, то $f_{1}(x), f_{2}(x), f_{3}(x), f_{4}(x)$ линейно зависимы."
   ]
  },
  {
   "cell_type": "markdown",
   "metadata": {},
   "source": [
    "#### __3.__ Найти координаты вектора $x = (2, 3, 5)\\in \\mathbb{R}^{3}$ в базисе $b_{1}=(0, 0, 10)$, $b_{2}=(2, 0, 0)$, $b_{3}=(0, 1, 0)$."
   ]
  },
  {
   "cell_type": "markdown",
   "metadata": {},
   "source": [
    "$(2, 3, 5) = a1(0, 0, 10) + a2(2, 0, 0) + a3(0, 1, 0)$  \n",
    "\n",
    "$2a2 = 2$ --> $a2 = 1$  \n",
    "$a3 = 3$   \n",
    "$10a1 = 5$ -- > $a1 = 2$  \n",
    "\n",
    "$x = (2, 3, 5)\\in \\mathbb{R}^{3}$ в базисе $b_{1}=(0, 0, 10)$, $b_{2}=(2, 0, 0)$, $b_{3}=(0, 1, 0)$:  \n",
    "\n",
    "$2(0, 0, 10) + (2, 0, 0) + 3(0, 1, 0)$ = $2b1 + b2 + 3b3$  \n",
    "\n",
    "Координатами вектора x в базисе b1, b2, b3 являются: 2, 1, 3."
   ]
  },
  {
   "cell_type": "markdown",
   "metadata": {
    "ExecuteTime": {
     "end_time": "2019-09-08T05:55:17.112453Z",
     "start_time": "2019-09-08T05:55:17.094501Z"
    }
   },
   "source": [
    "#### __4.__ Найти координаты вектора $3x^{2}-2x+2\\in\\mathbb{R}^{3}[x]$:\n",
    "\n",
    "   а) в базисе $1$, $x$, $x^{2}$;\n",
    "\n",
    "   б) в базисе $x^{2}$, $x-1$, $1$."
   ]
  },
  {
   "cell_type": "markdown",
   "metadata": {},
   "source": [
    "а) в базисе $1$, $x$, $x^{2}$:<br>\n",
    "\n",
    "$e_{1}$ = $1$, $e_{2}$ = $x$, $e_{3}$ = $x^{2}$<br>\n",
    "$3x^{2}-2x+2$ = $2-2x+3x^{2}$ = $2e_{1} - 2e_{2} + 3e_{3}$<br>\n",
    "Ответ: (2, -2, 3)"
   ]
  },
  {
   "cell_type": "markdown",
   "metadata": {},
   "source": [
    "б) в базисе $x^{2}$, $x-1$, $1$:<br>\n",
    "\n",
    "$e_{1}$ = $x^{2}$, $e_{2}$ = $x-1$, $e_{3}$ = $1$<br>\n",
    "$3x^{2}-2x+2$ = $3x^{2}-2(x-1) + 0$ = $3e_{1} - 2e_{2} + 0e_{3}$<br>\n",
    "Ответ: (3, -2, 0)"
   ]
  },
  {
   "cell_type": "markdown",
   "metadata": {},
   "source": [
    "#### __5.__ Установить, является ли линейным подпространством:\n",
    "\n",
    "а) совокупность всех векторов трехмерного пространства, у которых по крайней мере одна из первых двух координат равна нулю;\n",
    "    \n",
    "б) все векторы, являющиеся линейными комбинациями данных векторов $\\{u_{1}, u_{2}, ..., u_{n}\\}$."
   ]
  },
  {
   "cell_type": "markdown",
   "metadata": {
    "ExecuteTime": {
     "end_time": "2019-09-11T19:06:59.969488Z",
     "start_time": "2019-09-11T19:06:59.965499Z"
    }
   },
   "source": [
    "Подмножество $L$ линейного пространства $V$ является его подпространством тогда и только тогда, когда для любых элементов $u, v\\in L$ и любого $\\alpha \\in \\mathbb{R}$ выполняются условия:\n",
    "\n",
    "$$1)\\ u+v\\in L;$$\n",
    "\n",
    "$$2)\\ \\alpha\\cdot u \\in L.$$"
   ]
  },
  {
   "cell_type": "markdown",
   "metadata": {},
   "source": [
    "а) совокупность всех векторов трехмерного пространства, у которых по крайней мере одна из первых двух координат равна нулю:\n",
    "\n",
    "$x = (0, a, b)$<br>\n",
    "$y = (c, 0, d)$<br>\n",
    "\n",
    "$x + y = (c, a, b + d)$<br>\n",
    "$kx = k(0, a, b) = (0, ka, kb)$<br>\n",
    "$ky = k(c, 0, d) = (kc, 0, kd)$<br>\n",
    "\n",
    "Не выполняется условие $1)\\ u+v\\in L$, полученный вектор (c, a, b + d) не принадлежит совокупности совокупности всех векторов трехмерного пространства, у которых по крайней мере одна из первых двух координат равна нулю. Подпространство не является линейным."
   ]
  },
  {
   "cell_type": "markdown",
   "metadata": {},
   "source": [
    "б) все векторы, являющиеся линейными комбинациями данных векторов $\\{u_{1}, u_{2}, ..., u_{n}\\}$:\n",
    "\n",
    "Совокупность всех векторов, являющихся линейными комбинациями данных векторов $\\{u_{1}, u_{2}, ..., u_{n}\\}$ является линейная оболочка.<br>\n",
    "\n",
    "$x = a_{1}u_{1} + b_{1}u_{2} + ... + z_{1}u_{n}$<br>\n",
    "$y = a_{2}u_{1} + b_{2}u_{2} + ... + z_{2}u_{n}$<br>\n",
    "\n",
    "$x + y = (a_{1} + a_{2})u_{1} + (b_{1} + b_{2})u_{2} + (z_{1} + z_{2})u_{n}$<br>\n",
    "$kx = ka_{1}u_{1} + kb_{1}u_{2} + ... + kz_{1}u_{n}$<br>\n",
    "$ky = ka_{2}u_{1} + kb_{2}u_{2} + ... + kz_{2}u_{n}$<br>\n",
    "\n",
    "Условия $1)\\ u+v\\in L$ и $2)\\ \\alpha\\cdot u \\in L$ выполняются. Подпространство является линейным."
   ]
  },
  {
   "cell_type": "markdown",
   "metadata": {},
   "source": [
    "## Линейное пространство. Основные понятия. Часть 2"
   ]
  },
  {
   "cell_type": "code",
   "execution_count": 1,
   "metadata": {
    "ExecuteTime": {
     "end_time": "2019-09-10T17:22:41.826415Z",
     "start_time": "2019-09-10T17:22:41.649896Z"
    }
   },
   "outputs": [],
   "source": [
    "import numpy as np\n",
    "from scipy import linalg"
   ]
  },
  {
   "cell_type": "markdown",
   "metadata": {},
   "source": [
    "#### __1.__ Найти скалярное произведение векторов $x, y \\in \\mathbb{R}$:<br>\n",
    "а) $x=(0,-3, 6),~y=(-4, 7, 9);$<br>\n",
    "б) $x=(7, -4, 0, 1),~y=(-3, 1, 11, 2).$"
   ]
  },
  {
   "cell_type": "code",
   "execution_count": 2,
   "metadata": {
    "ExecuteTime": {
     "end_time": "2019-09-10T17:22:41.838384Z",
     "start_time": "2019-09-10T17:22:41.829408Z"
    }
   },
   "outputs": [
    {
     "name": "stdout",
     "output_type": "stream",
     "text": [
      "x=[ 0 -3  6]\n",
      "y=[-4  7  9]\n",
      "Скалярное произведение x и y: 33\n"
     ]
    }
   ],
   "source": [
    "# а)  𝑥=(0,−3,6), 𝑦=(−4,7,9)\n",
    "\n",
    "x = np.array([0, -3, 6])\n",
    "y = np.array([-4, 7, 9])\n",
    "\n",
    "print(f'x={x}')\n",
    "print(f'y={y}')\n",
    "print(f'Скалярное произведение x и y: {np.dot(x, y)}')"
   ]
  },
  {
   "cell_type": "code",
   "execution_count": 3,
   "metadata": {
    "ExecuteTime": {
     "end_time": "2019-09-10T17:22:41.851348Z",
     "start_time": "2019-09-10T17:22:41.841376Z"
    }
   },
   "outputs": [
    {
     "name": "stdout",
     "output_type": "stream",
     "text": [
      "x=[ 7 -4  0  1]\n",
      "y=[-3  1 11  2]\n",
      "Скалярное произведение x и y: -23\n"
     ]
    }
   ],
   "source": [
    "# б)  𝑥=(7,−4,0,1), 𝑦=(−3,1,11,2)\n",
    "\n",
    "x = np.array([7, -4, 0, 1])\n",
    "y = np.array([-3, 1, 11, 2])\n",
    "\n",
    "print(f'x={x}')\n",
    "print(f'y={y}')\n",
    "print(f'Скалярное произведение x и y: {np.dot(x, y)}')"
   ]
  },
  {
   "cell_type": "markdown",
   "metadata": {},
   "source": [
    "#### __2.__ Найти нормы векторов $(4, 2, 4)$ и $(12, 3, 4)$ и угол между ними."
   ]
  },
  {
   "cell_type": "code",
   "execution_count": 4,
   "metadata": {
    "ExecuteTime": {
     "end_time": "2019-09-10T17:22:41.866309Z",
     "start_time": "2019-09-10T17:22:41.854342Z"
    }
   },
   "outputs": [
    {
     "name": "stdout",
     "output_type": "stream",
     "text": [
      "a=[4 2 4]\n",
      "b=[12  3  4]\n",
      "l2 норма вектора a: 6.0\n",
      "l2 норма вектора b: 13.0\n",
      "Косинус угла между a и b: 0.90\n",
      "Угол между a и b: 0.46\n"
     ]
    }
   ],
   "source": [
    "a = np.array([4, 2, 4])\n",
    "b = np.array([12, 3, 4])\n",
    "\n",
    "print(f'a={a}')\n",
    "print(f'b={b}')\n",
    "print(f'l2 норма вектора a: {linalg.norm(a, ord=2)}')\n",
    "print(f'l2 норма вектора b: {linalg.norm(b, ord=2)}')\n",
    "\n",
    "cos_phi = np.dot(a, b) / linalg.norm(a, ord=2) / linalg.norm(b, ord=2)\n",
    "\n",
    "print(f'Косинус угла между a и b: {cos_phi:.2f}')\n",
    "print(f'Угол между a и b: {np.arccos(cos_phi):.2f}')"
   ]
  },
  {
   "cell_type": "markdown",
   "metadata": {
    "ExecuteTime": {
     "end_time": "2019-09-08T06:27:32.614902Z",
     "start_time": "2019-09-08T06:27:32.607921Z"
    }
   },
   "source": [
    "#### __3.__ Будет ли линейное пространство евклидовым, если за скалярное произведение принять:<br>\n",
    "а) произведение длин векторов;<br>\n",
    "б) утроенное обычное скалярное произведение векторов?"
   ]
  },
  {
   "cell_type": "markdown",
   "metadata": {},
   "source": [
    "Линейное пространство над полем вещественных чисел называется _евклидовым пространством_, если на нем введено правило, согласно которому каждой упорядоченной паре векторов $x$ и $y$ поставлено в соответствие вещественное число, называемое _скалярным произведением_ и обозначаемое символом $(x, y)$.\n",
    "\n",
    "При этом указанное правило должно подчиняться четырем аксиомам:<br>\n",
    "1) $(x,y)=(y,x);$<br>\n",
    "2) $(\\lambda x, y)=\\lambda(x, y);$<br>\n",
    "3) $(x_{1}+x_{2},y)=(x_{1},y)+(x_{2},y);$<br>\n",
    "4) $(x, x)\\geq0$, причем $(x,x)=0\\Leftrightarrow x=0.$"
   ]
  },
  {
   "cell_type": "code",
   "execution_count": 5,
   "metadata": {
    "ExecuteTime": {
     "end_time": "2019-09-10T17:22:41.879275Z",
     "start_time": "2019-09-10T17:22:41.868304Z"
    }
   },
   "outputs": [
    {
     "name": "stdout",
     "output_type": "stream",
     "text": [
      "1) (x,y)=(y,x): True\n",
      "2) (kx,y)=k(x, y): True\n",
      "3) (x1+x2,y)=(x1,y) + (x2,y): False\n",
      "4) (x,x)>=0, (x,x)=0 <-> x=0: True, True\n"
     ]
    }
   ],
   "source": [
    "# а) произведение длин векторов\n",
    "\n",
    "# определим скалярное произведение как произведение длин векторов:\n",
    "def scalar_product(a, b, ord=2):\n",
    "    return linalg.norm(a, ord=ord) * linalg.norm(b, ord=ord)\n",
    "\n",
    "# проверим аксиомы:\n",
    "a = np.array([4, 2, 4])\n",
    "b = np.array([12, 3, 4])\n",
    "print(f'1) (x,y)=(y,x): {scalar_product(a, b) == scalar_product(b, a)}')\n",
    "k = 42\n",
    "print(f'2) (kx,y)=k(x, y): {scalar_product(k * a, b) == k * scalar_product(a, b)}')\n",
    "a1 = np.array([0, -3, 6])\n",
    "a2 = np.array([-4, 7, 9])\n",
    "print(f'3) (x1+x2,y)=(x1,y) + (x2,y): {scalar_product(a1 + a2, b) == scalar_product(a1, b) + scalar_product(a2, b)}')\n",
    "print(f'4) (x,x)>=0, (x,x)=0 <-> x=0: {scalar_product(x, x) >= 0}, {scalar_product((0, 0, 0), (0, 0, 0)) == 0.0}')\n",
    "\n",
    "# так как 3 аксиома не выполняется, то если за скалярное произведение принять произведение длин векторов,\n",
    "# то такое линейное пространство не будет являться евклидовым"
   ]
  },
  {
   "cell_type": "code",
   "execution_count": 6,
   "metadata": {
    "ExecuteTime": {
     "end_time": "2019-09-10T17:22:41.894235Z",
     "start_time": "2019-09-10T17:22:41.881270Z"
    }
   },
   "outputs": [
    {
     "name": "stdout",
     "output_type": "stream",
     "text": [
      "1) (x,y)=(y,x): True\n",
      "2) (kx,y)=k(x, y): True\n",
      "3) (x1+x2,y)=(x1,y) + (x2,y): True\n",
      "4) (x,x)>=0, (x,x)=0 <-> x=0: True, True\n"
     ]
    }
   ],
   "source": [
    "# б) утроенное обычное скалярное произведение векторов\n",
    "\n",
    "# определим скалярное произведение как утроенное обычное скалярное произведение векторов:\n",
    "def scalar_product(a, b):\n",
    "    return 3 * np.dot(a, b)\n",
    "\n",
    "# проверим аксиомы:\n",
    "a = np.array([4, 2, 4])\n",
    "b = np.array([12, 3, 4])\n",
    "print(f'1) (x,y)=(y,x): {scalar_product(a, b) == scalar_product(b, a)}')\n",
    "k = 42\n",
    "print(f'2) (kx,y)=k(x, y): {scalar_product(k * a, b) == k * scalar_product(a, b)}')\n",
    "a1 = np.array([0, -3, 6])\n",
    "a2 = np.array([-4, 7, 9])\n",
    "print(f'3) (x1+x2,y)=(x1,y) + (x2,y): {scalar_product(a1 + a2, b) == scalar_product(a1, b) + scalar_product(a2, b)}')\n",
    "print(f'4) (x,x)>=0, (x,x)=0 <-> x=0: {scalar_product(x, x) >= 0}, {scalar_product((0, 0, 0), (0, 0, 0)) == 0.0}')\n",
    "\n",
    "# так как все аксиомы выполняется, то если за скалярное произведение принять утроенное обычное скалярное произведение векторов,\n",
    "# то такое линейное пространство будет являться евклидовым"
   ]
  },
  {
   "cell_type": "markdown",
   "metadata": {},
   "source": [
    "#### __4.__ Какие из нижеперечисленных векторов образуют ортонормированный базис в линейном пространстве $\\mathbb{R}^{3}$:<br>\n",
    "а) $(1,0,0),(0,0,1);$ <br>\n",
    "б) $(1/\\sqrt{2},-1/\\sqrt{2},0),(1/\\sqrt{2},1/\\sqrt{2},0), (0,0,1);$<br>\n",
    "в) $(1/2, -1/2, 0), (0, 1/2, 1/2), (0,0,1);$<br>\n",
    "г) $(1,0,0),(0,1,0),(0,0,1)?$ "
   ]
  },
  {
   "cell_type": "code",
   "execution_count": 7,
   "metadata": {
    "ExecuteTime": {
     "end_time": "2019-09-10T17:22:41.906203Z",
     "start_time": "2019-09-10T17:22:41.896229Z"
    }
   },
   "outputs": [
    {
     "name": "stdout",
     "output_type": "stream",
     "text": [
      "(a,b) = 0\n",
      "(a,a) = 1\n",
      "(b,b) = 1\n"
     ]
    }
   ],
   "source": [
    "# а)\n",
    "\n",
    "a, b, = (1, 0, 0), (0, 0, 1)\n",
    "\n",
    "print(f'(a,b) = {np.round(np.dot(a, b), 4)}')\n",
    "print(f'(a,a) = {np.round(np.dot(a, a), 4)}')\n",
    "print(f'(b,b) = {np.round(np.dot(b, b), )}')\n",
    "\n",
    "# Ответ: да"
   ]
  },
  {
   "cell_type": "code",
   "execution_count": 8,
   "metadata": {
    "ExecuteTime": {
     "end_time": "2019-09-10T17:22:41.920165Z",
     "start_time": "2019-09-10T17:22:41.909195Z"
    }
   },
   "outputs": [
    {
     "name": "stdout",
     "output_type": "stream",
     "text": [
      "(a,b) = 0.0\n",
      "(a,c) = 0.0\n",
      "(b,c) = 0.0\n",
      "(a,a) = 1.0\n",
      "(b,b) = 1.0\n",
      "(c,c) = 1\n"
     ]
    }
   ],
   "source": [
    "# б)\n",
    "\n",
    "a, b, c = (1/np.sqrt(2), -1/np.sqrt(2), 0), (1/np.sqrt(2), 1/np.sqrt(2), 0), (0, 0, 1)\n",
    "\n",
    "print(f'(a,b) = {np.round(np.dot(a, b), 4)}')\n",
    "print(f'(a,c) = {np.round(np.dot(a, c), 4)}')\n",
    "print(f'(b,c) = {np.round(np.dot(b, c), 4)}')\n",
    "print(f'(a,a) = {np.round(np.dot(a, a), 4)}')\n",
    "print(f'(b,b) = {np.round(np.dot(b, b), 4)}')\n",
    "print(f'(c,c) = {np.round(np.dot(c, c), 4)}')\n",
    "\n",
    "# Ответ: да"
   ]
  },
  {
   "cell_type": "code",
   "execution_count": 9,
   "metadata": {
    "ExecuteTime": {
     "end_time": "2019-09-10T17:22:41.932133Z",
     "start_time": "2019-09-10T17:22:41.922160Z"
    }
   },
   "outputs": [
    {
     "name": "stdout",
     "output_type": "stream",
     "text": [
      "(a,b) = -0.25\n",
      "(a,c) = 0.0\n",
      "(b,c) = 0.5\n",
      "(a,a) = 0.5\n",
      "(b,b) = 0.5\n",
      "(c,c) = 1\n"
     ]
    }
   ],
   "source": [
    "# в)\n",
    "\n",
    "a, b, c = (1/2, -1/2, 0), (0, 1/2, 1/2), (0, 0, 1)\n",
    "\n",
    "print(f'(a,b) = {np.round(np.dot(a, b), 4)}')\n",
    "print(f'(a,c) = {np.round(np.dot(a, c), 4)}')\n",
    "print(f'(b,c) = {np.round(np.dot(b, c), 4)}')\n",
    "print(f'(a,a) = {np.round(np.dot(a, a), 4)}')\n",
    "print(f'(b,b) = {np.round(np.dot(b, b), 4)}')\n",
    "print(f'(c,c) = {np.round(np.dot(c, c), 4)}')\n",
    "\n",
    "# Ответ: нет"
   ]
  },
  {
   "cell_type": "code",
   "execution_count": 10,
   "metadata": {
    "ExecuteTime": {
     "end_time": "2019-09-10T17:22:41.945098Z",
     "start_time": "2019-09-10T17:22:41.934128Z"
    }
   },
   "outputs": [
    {
     "name": "stdout",
     "output_type": "stream",
     "text": [
      "(a,b) = 0\n",
      "(a,c) = 0\n",
      "(b,c) = 0\n",
      "(a,a) = 1\n",
      "(b,b) = 1\n",
      "(c,c) = 1\n"
     ]
    }
   ],
   "source": [
    "# г)\n",
    "\n",
    "a, b, c = (1, 0, 0), (0, 1, 0), (0, 0, 1)\n",
    "\n",
    "print(f'(a,b) = {np.round(np.dot(a, b), 4)}')\n",
    "print(f'(a,c) = {np.round(np.dot(a, c), 4)}')\n",
    "print(f'(b,c) = {np.round(np.dot(b, c), 4)}')\n",
    "print(f'(a,a) = {np.round(np.dot(a, a), 4)}')\n",
    "print(f'(b,b) = {np.round(np.dot(b, b), 4)}')\n",
    "print(f'(c,c) = {np.round(np.dot(c, c), 4)}')\n",
    "\n",
    "# Ответ: да"
   ]
  },
  {
   "cell_type": "code",
   "execution_count": null,
   "metadata": {},
   "outputs": [],
   "source": []
  }
 ],
 "metadata": {
  "kernelspec": {
   "display_name": "Python 3",
   "language": "python",
   "name": "python3"
  },
  "language_info": {
   "codemirror_mode": {
    "name": "ipython",
    "version": 3
   },
   "file_extension": ".py",
   "mimetype": "text/x-python",
   "name": "python",
   "nbconvert_exporter": "python",
   "pygments_lexer": "ipython3",
   "version": "3.7.6"
  }
 },
 "nbformat": 4,
 "nbformat_minor": 2
}
