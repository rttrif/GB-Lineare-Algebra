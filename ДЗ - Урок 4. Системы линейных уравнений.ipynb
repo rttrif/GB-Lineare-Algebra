{
 "cells": [
  {
   "cell_type": "markdown",
   "metadata": {},
   "source": [
    "# Урок 4. Системы линейных уравненийм"
   ]
  },
  {
   "cell_type": "markdown",
   "metadata": {},
   "source": [
    "## Системы линейных уравнений. Часть 1"
   ]
  },
  {
   "cell_type": "code",
   "execution_count": 2,
   "metadata": {
    "ExecuteTime": {
     "end_time": "2019-09-21T06:27:04.373350Z",
     "start_time": "2019-09-21T06:27:04.188846Z"
    }
   },
   "outputs": [],
   "source": [
    "import numpy as np\n",
    "import scipy.linalg"
   ]
  },
  {
   "cell_type": "markdown",
   "metadata": {},
   "source": [
    "#### __1.__ Решить систему уравнений методом Гаусса:\n",
    "\n",
    "$$\\begin{cases}\n",
    "x_{1}+x_{2}-x_{3}-2x_{4}=0, \\\\\n",
    "2x_{1}+x_{2}-x_{3}+x_{4}=-2, \\\\\n",
    "x_{1}+x_{2}-3x_{3}+x_{4}=4.\n",
    "\\end{cases}$$"
   ]
  },
  {
   "cell_type": "markdown",
   "metadata": {},
   "source": [
    "Запишем систему в виде расширенной матрицы.<br>\n",
    "\n",
    "$\\begin{pmatrix}\n",
    "\\left.\\begin{matrix}\n",
    "1 & 1 & -1 & -2 \\\\ \n",
    "2 & 1 & -1 & 1 \\\\ \n",
    "1 & 1 & -3 & 1\n",
    "\\end{matrix}\\right|\n",
    "\\begin{matrix}\n",
    "0\\\\ \n",
    "-2\\\\\n",
    "4\n",
    "\\end{matrix}\n",
    "\\end{pmatrix}.$\n",
    "\n",
    "Умножим 1 строку на -2 и сложим со 2 строкой.<br>\n",
    "Умножим 1 строку на -1 и сложим с 3 строкой.<br>\n",
    "\n",
    "$\\begin{pmatrix}\n",
    "\\left.\\begin{matrix}\n",
    "1 & 1 & -1 & -2 \\\\ \n",
    "0 & -1 & 1 & 5 \\\\ \n",
    "0 & 0 & -2 & 3\n",
    "\\end{matrix}\\right|\n",
    "\\begin{matrix}\n",
    "0\\\\ \n",
    "-2\\\\\n",
    "4\n",
    "\\end{matrix}\n",
    "\\end{pmatrix}.$\n",
    "\n",
    "Разделим каждую строку матрицы на соответсвующий ведущий элемент: 1 строку на 1, 2 строку на -2, 3 строку на -2.<br>\n",
    "\n",
    "$\\begin{pmatrix}\n",
    "\\left.\\begin{matrix}\n",
    "1 & 1 & -1 & -2 \\\\ \n",
    "0 & 1 & -1 & -5 \\\\ \n",
    "0 & 0 & 2 & -\\frac{3}{2}\n",
    "\\end{matrix}\\right|\n",
    "\\begin{matrix}\n",
    "0\\\\ \n",
    "2\\\\\n",
    "-2\n",
    "\\end{matrix}\n",
    "\\end{pmatrix}.$\n",
    "\n",
    "Выразим $x_{1}, x_{2}, x_{3}$ относительно остальных переменных.<br>\n",
    "\n",
    "$x_{1} = -x_{2} + x_{3} + 2x_{4}$<br>\n",
    "$x_{2} = 2 + x_{3} + 5x_{4}$<br>\n",
    "$x_{3} = -2 + \\frac{3}{2}x_{4}$<br>\n",
    "\n",
    "Решение:<br>\n",
    "$x_{1} = -2 - 3x_{4}$<br>\n",
    "$x_{2} = \\frac{13}{2}x_{4}$<br>\n",
    "$x_{3} = -2 + \\frac{3}{2}x_{4}$<br>\n",
    "$x_{4}$ - произвольное действительное число<br>\n",
    "\n",
    "Частное решение:<br>\n",
    "$x_{1} = -2$<br>\n",
    "$x_{2} = 0$<br>\n",
    "$x_{3} = -2$<br>\n",
    "$x_{4} = 0$<br>"
   ]
  },
  {
   "cell_type": "markdown",
   "metadata": {},
   "source": [
    "#### __2.__ Проверить на совместность и выяснить, сколько решений будет иметь система линейных уравнений:\n",
    "\n",
    "   а) $\\begin{cases}\n",
    "3x_{1}-x_{2}+x_{3}=4, \\\\\n",
    "2x_{1}-5x_{2}-3x_{3}=-17, \\\\\n",
    "x_{1}+x_{2}-x_{3}=0;\n",
    "\\end{cases}$\n",
    "    \n",
    "   б) $\\begin{cases}\n",
    "2x_{1}-4x_{2}+6x_{3}=1, \\\\\n",
    "x_{1}-2x_{2}+3x_{3}=-2, \\\\\n",
    "3x_{1}-6x_{2}+9x_{3}=5;\n",
    "\\end{cases}$\n",
    "    \n",
    "   в) $\\begin{cases}\n",
    "x_{1}+2x_{2}+5x_{3}=4, \\\\\n",
    "3x_{1}+x_{2}-8x_{3}=-2. \n",
    "\\end{cases}$"
   ]
  },
  {
   "cell_type": "markdown",
   "metadata": {},
   "source": [
    "__Теорема__ \n",
    "\n",
    "Необходимым и достаточным условием совместности системы из $m$ уравнений с $n$ неизвестными является равенство между собой рангов матрицы коэффициентов $A$ и расширенной матрицы $\\tilde A$\n",
    "\n",
    "$$rank A=rank \\tilde A.$$"
   ]
  },
  {
   "cell_type": "markdown",
   "metadata": {},
   "source": [
    "Причем:<br>\n",
    "1) если $rankA=rank \\tilde A=n$, где $n$ — число неизвестных, то система определена, т. е. имеет единственное решение;<br>\n",
    "2) если $rankA=rank \\tilde A<n$, то система имеет бесконечное количество решений;<br>\n",
    "3) если $rankA<rank \\tilde A$, то система несовместна."
   ]
  },
  {
   "cell_type": "code",
   "execution_count": 2,
   "metadata": {
    "ExecuteTime": {
     "end_time": "2019-09-21T06:27:04.424215Z",
     "start_time": "2019-09-21T06:27:04.375346Z"
    }
   },
   "outputs": [
    {
     "name": "stdout",
     "output_type": "stream",
     "text": [
      "A:\n",
      "[[ 3 -1  1]\n",
      " [ 2 -5 -3]\n",
      " [ 1  1 -1]]\n",
      "\n",
      "A_ext:\n",
      "[[  3  -1   1   4]\n",
      " [  2  -5  -3 -17]\n",
      " [  1   1  -1   0]]\n",
      "\n",
      "rank(A): 3\n",
      "\n",
      "rank(A_ext): 3\n",
      "\n",
      "# of vars: 3\n",
      "\n",
      "Система имеет единственное решение.\n"
     ]
    }
   ],
   "source": [
    "A = np.array([[3, -1, 1], [2, -5, -3], [1, 1, -1]])\n",
    "b = np.array([4, -17, 0])\n",
    "A_ext = np.column_stack([A, b])\n",
    "\n",
    "rank_A = np.linalg.matrix_rank(A)\n",
    "rank_A_ext = np.linalg.matrix_rank(A_ext)\n",
    "n = len(A[0])\n",
    "\n",
    "print(f'A:\\n{A}\\n')\n",
    "print(f'A_ext:\\n{A_ext}\\n')\n",
    "\n",
    "print(f'rank(A): {rank_A}\\n')\n",
    "print(f'rank(A_ext): {rank_A_ext}\\n')\n",
    "print(f'# of vars: {n}\\n')\n",
    "\n",
    "if rank_A == rank_A_ext == n:\n",
    "    print(f'Система имеет единственное решение.')\n",
    "elif rank_A == rank_A_ext < n:\n",
    "    print(f'Система имеет бесконечное кол-во решений.')\n",
    "elif rank_A < rank_A_ext:\n",
    "    print(f'Система несовместна.')"
   ]
  },
  {
   "cell_type": "code",
   "execution_count": 3,
   "metadata": {
    "ExecuteTime": {
     "end_time": "2019-09-21T06:27:04.443166Z",
     "start_time": "2019-09-21T06:27:04.427208Z"
    }
   },
   "outputs": [
    {
     "name": "stdout",
     "output_type": "stream",
     "text": [
      "A:\n",
      "[[ 3 -4  6]\n",
      " [ 1 -2  3]\n",
      " [ 3 -6  9]]\n",
      "\n",
      "A_ext:\n",
      "[[ 3 -4  6  1]\n",
      " [ 1 -2  3 -2]\n",
      " [ 3 -6  9  5]]\n",
      "\n",
      "rank(A): 2\n",
      "\n",
      "rank(A_ext): 3\n",
      "\n",
      "# of vars: 3\n",
      "\n",
      "Система несовместна.\n"
     ]
    }
   ],
   "source": [
    "A = np.array([[3, -4, 6], [1, -2, 3], [3, -6, 9]])\n",
    "b = np.array([1, -2, 5])\n",
    "A_ext = np.column_stack([A, b])\n",
    "\n",
    "rank_A = np.linalg.matrix_rank(A)\n",
    "rank_A_ext = np.linalg.matrix_rank(A_ext)\n",
    "n = len(A[0])\n",
    "\n",
    "print(f'A:\\n{A}\\n')\n",
    "print(f'A_ext:\\n{A_ext}\\n')\n",
    "\n",
    "print(f'rank(A): {rank_A}\\n')\n",
    "print(f'rank(A_ext): {rank_A_ext}\\n')\n",
    "print(f'# of vars: {n}\\n')\n",
    "\n",
    "if rank_A == rank_A_ext == n:\n",
    "    print(f'Система имеет единственное решение.')\n",
    "elif rank_A == rank_A_ext < n:\n",
    "    print(f'Система имеет бесконечное кол-во решений.')\n",
    "elif rank_A < rank_A_ext:\n",
    "    print(f'Система несовместна.')"
   ]
  },
  {
   "cell_type": "code",
   "execution_count": 4,
   "metadata": {
    "ExecuteTime": {
     "end_time": "2019-09-21T06:27:04.460119Z",
     "start_time": "2019-09-21T06:27:04.445160Z"
    }
   },
   "outputs": [
    {
     "name": "stdout",
     "output_type": "stream",
     "text": [
      "A:\n",
      "[[ 1  2  5]\n",
      " [ 3  1 -8]]\n",
      "\n",
      "A_ext:\n",
      "[[ 1  2  5  4]\n",
      " [ 3  1 -8 -2]]\n",
      "\n",
      "rank(A): 2\n",
      "\n",
      "rank(A_ext): 2\n",
      "\n",
      "# of vars: 3\n",
      "\n",
      "Система имеет бесконечное кол-во решений.\n"
     ]
    }
   ],
   "source": [
    "A = np.array([[1, 2, 5], [3, 1, -8]])\n",
    "b = np.array([4, -2])\n",
    "A_ext = np.column_stack([A, b])\n",
    "\n",
    "rank_A = np.linalg.matrix_rank(A)\n",
    "rank_A_ext = np.linalg.matrix_rank(A_ext)\n",
    "n = len(A[0])\n",
    "\n",
    "print(f'A:\\n{A}\\n')\n",
    "print(f'A_ext:\\n{A_ext}\\n')\n",
    "\n",
    "print(f'rank(A): {rank_A}\\n')\n",
    "print(f'rank(A_ext): {rank_A_ext}\\n')\n",
    "print(f'# of vars: {n}\\n')\n",
    "\n",
    "if rank_A == rank_A_ext == n:\n",
    "    print(f'Система имеет единственное решение.')\n",
    "elif rank_A == rank_A_ext < n:\n",
    "    print(f'Система имеет бесконечное кол-во решений.')\n",
    "elif rank_A < rank_A_ext:\n",
    "    print(f'Система несовместна.')"
   ]
  },
  {
   "cell_type": "markdown",
   "metadata": {},
   "source": [
    "#### __3.__ Проверить на совместность и выяснить, сколько решений будет иметь система линейных уравнений, заданная расширенной матрицей\n",
    "\n",
    "$$\\tilde{A}=\\begin{pmatrix}\n",
    "\\left.\\begin{matrix}\n",
    "1 & 3 & -2 & 4\\\\ \n",
    "0 & 5 & 0 & 1\\\\ \n",
    "0 & 0 & 3 & 0\\\\ \n",
    "0 & 0 & 0 & 2\n",
    "\\end{matrix}\\right|\n",
    "\\begin{matrix}\n",
    "3\\\\ \n",
    "2\\\\\n",
    "4\\\\\n",
    "1\n",
    "\\end{matrix}\n",
    "\\end{pmatrix}.$$"
   ]
  },
  {
   "cell_type": "code",
   "execution_count": 5,
   "metadata": {
    "ExecuteTime": {
     "end_time": "2019-09-21T06:27:04.475082Z",
     "start_time": "2019-09-21T06:27:04.462114Z"
    }
   },
   "outputs": [
    {
     "name": "stdout",
     "output_type": "stream",
     "text": [
      "A:\n",
      "[[ 1  3 -2  4]\n",
      " [ 0  5  0  1]\n",
      " [ 0  0  3  0]\n",
      " [ 0  0  0  2]]\n",
      "\n",
      "A_ext:\n",
      "[[ 1  3 -2  4  3]\n",
      " [ 0  5  0  1  2]\n",
      " [ 0  0  3  0  4]\n",
      " [ 0  0  0  2  1]]\n",
      "\n",
      "rank(A): 4\n",
      "\n",
      "rank(A_ext): 4\n",
      "\n",
      "# of vars: 4\n",
      "\n",
      "Система имеет единственное решение.\n"
     ]
    }
   ],
   "source": [
    "A = np.array([[1, 3, -2, 4], [0, 5, 0, 1], [0, 0, 3, 0], [0, 0, 0, 2]])\n",
    "b = np.array([3, 2, 4, 1])\n",
    "A_ext = np.column_stack([A, b])\n",
    "\n",
    "rank_A = np.linalg.matrix_rank(A)\n",
    "rank_A_ext = np.linalg.matrix_rank(A_ext)\n",
    "n = len(A[0])\n",
    "\n",
    "print(f'A:\\n{A}\\n')\n",
    "print(f'A_ext:\\n{A_ext}\\n')\n",
    "\n",
    "print(f'rank(A): {rank_A}\\n')\n",
    "print(f'rank(A_ext): {rank_A_ext}\\n')\n",
    "print(f'# of vars: {n}\\n')\n",
    "\n",
    "if rank_A == rank_A_ext == n:\n",
    "    print(f'Система имеет единственное решение.')\n",
    "elif rank_A == rank_A_ext < n:\n",
    "    print(f'Система имеет бесконечное кол-во решений.')\n",
    "elif rank_A < rank_A_ext:\n",
    "    print(f'Система несовместна.')"
   ]
  },
  {
   "cell_type": "markdown",
   "metadata": {},
   "source": [
    "#### __4.__ Дана система линейных уравнений, заданная расширенной матрицей\n",
    "\n",
    "$$\\tilde{A}=\\begin{pmatrix}\n",
    "\\left.\\begin{matrix}\n",
    "1 & 2 & 3\\\\ \n",
    "4 & 5 & 6\\\\ \n",
    "7 & 8 & 9\n",
    "\\end{matrix}\\right|\n",
    "\\begin{matrix}\n",
    "a\\\\ \n",
    "b\\\\\n",
    "c\n",
    "\\end{matrix}\n",
    "\\end{pmatrix}.$$\n",
    "\n",
    "Найти соотношение между параметрами $a$, $b$ и $c$, при которых система является несовместной."
   ]
  },
  {
   "cell_type": "markdown",
   "metadata": {
    "ExecuteTime": {
     "end_time": "2019-09-20T18:41:24.011420Z",
     "start_time": "2019-09-20T18:41:24.000448Z"
    }
   },
   "source": [
    "Запишем систему в виде расширенной матрицы.<br>\n",
    "\n",
    "$\\begin{pmatrix}\n",
    "\\left.\\begin{matrix}\n",
    "1 & 2 & 3 \\\\ \n",
    "4 & 5 & 6 \\\\ \n",
    "7 & 8 & 9\n",
    "\\end{matrix}\\right|\n",
    "\\begin{matrix}\n",
    "a\\\\ \n",
    "b\\\\\n",
    "c\n",
    "\\end{matrix}\n",
    "\\end{pmatrix}.$\n",
    "\n",
    "1 строку умножим на 2 и вычтем и 2 строки.<br>\n",
    "1 строку умножим на 3 и вычтем и 3 строки.<br>\n",
    "\n",
    "$\\begin{pmatrix}\n",
    "\\left.\\begin{matrix}\n",
    "1 & 2 & 3 \\\\ \n",
    "2 & 1 & 0 \\\\ \n",
    "4 & 2 & 0\n",
    "\\end{matrix}\\right|\n",
    "\\begin{matrix}\n",
    "a\\\\ \n",
    "b - 2a\\\\\n",
    "c - 3a\n",
    "\\end{matrix}\n",
    "\\end{pmatrix}.$\n",
    "\n",
    "2 строку умножим на 2 и вычтем из 3 строки. <br>\n",
    "\n",
    "$\\begin{pmatrix}\n",
    "\\left.\\begin{matrix}\n",
    "1 & 2 & 3 \\\\ \n",
    "2 & 1 & 0 \\\\ \n",
    "0 & 0 & 0\n",
    "\\end{matrix}\\right|\n",
    "\\begin{matrix}\n",
    "a\\\\ \n",
    "b - 2a\\\\\n",
    "c - 3a - 2b\n",
    "\\end{matrix}\n",
    "\\end{pmatrix}.$\n",
    "\n",
    "Если c - 3a - 2b != 0, то система несовместна.<br>"
   ]
  },
  {
   "cell_type": "markdown",
   "metadata": {},
   "source": [
    "## Системы линейных уравнений. Часть 2"
   ]
  },
  {
   "cell_type": "markdown",
   "metadata": {},
   "source": [
    "#### __1.__ Решить систему уравнений методом Крамера:\n",
    "\n",
    "   а) $\\begin{cases}\n",
    "x_{1}-2x_{2}=1 \\\\\n",
    "3x_{1}-4x_{2}=7\n",
    "\\end{cases}$\n",
    "    \n",
    "   б) $\\begin{cases}\n",
    "2x_{1}-x_{2}+5x_{3}=10 \\\\\n",
    "x_{1}+x_{2}-3x_{3}=-2 \\\\\n",
    "2x_{1}+4x_{2}+x_{3}=1\n",
    "\\end{cases}$"
   ]
  },
  {
   "cell_type": "code",
   "execution_count": 2,
   "metadata": {
    "ExecuteTime": {
     "end_time": "2019-09-21T11:54:21.196644Z",
     "start_time": "2019-09-21T11:54:21.179686Z"
    }
   },
   "outputs": [
    {
     "name": "stdout",
     "output_type": "stream",
     "text": [
      "A:\n",
      "[[ 1 -2]\n",
      " [ 3 -4]]\n",
      "\n",
      "b:\n",
      "[1 7]\n",
      "\n",
      "det(A): 2.0000000000000004\n",
      "\n",
      "Определитель матрицы квадратной системы не равен 0, система совместна и имеет единственное решение.\n",
      "\n",
      "A1:\n",
      "[[ 1 -2]\n",
      " [ 7 -4]]\n",
      "\n",
      "det(A1): 9.999999999999998\n",
      "\n",
      "A2:\n",
      "[[1 1]\n",
      " [3 7]]\n",
      "\n",
      "det(A2): 4.0\n",
      "\n",
      "x1 = 4.999999999999998\n",
      "x2 = 1.9999999999999996\n"
     ]
    }
   ],
   "source": [
    "# а)\n",
    "\n",
    "A = np.array([[1, -2], [3, -4]])\n",
    "b = np.array([1, 7])\n",
    "\n",
    "det_A = np.linalg.det(A)\n",
    "\n",
    "print(f'A:\\n{A}\\n')\n",
    "print(f'b:\\n{b}\\n')\n",
    "\n",
    "print(f'det(A): {det_A}\\n')\n",
    "\n",
    "if det_A != 0:\n",
    "    print(f'Определитель матрицы квадратной системы не равен 0, система совместна и имеет единственное решение.\\n')\n",
    "\n",
    "A1 = np.column_stack([b, A[:, 1]])\n",
    "det_A1 = np.linalg.det(A1)\n",
    "\n",
    "print(f'A1:\\n{A1}\\n')\n",
    "print(f'det(A1): {det_A1}\\n')\n",
    "\n",
    "A2 = np.column_stack([A[:, 0], b])\n",
    "det_A2 = np.linalg.det(A2)\n",
    "\n",
    "print(f'A2:\\n{A2}\\n')\n",
    "print(f'det(A2): {det_A2}\\n')\n",
    "\n",
    "print(f'x1 = {det_A1 / det_A}')\n",
    "print(f'x2 = {det_A2 / det_A}')"
   ]
  },
  {
   "cell_type": "code",
   "execution_count": 3,
   "metadata": {
    "ExecuteTime": {
     "end_time": "2019-09-21T11:54:21.217584Z",
     "start_time": "2019-09-21T11:54:21.200630Z"
    }
   },
   "outputs": [
    {
     "name": "stdout",
     "output_type": "stream",
     "text": [
      "A:\n",
      "[[ 2 -1  5]\n",
      " [ 1  1 -3]\n",
      " [ 2  4  1]]\n",
      "\n",
      "b:\n",
      "[10 -2  1]\n",
      "\n",
      "det(A): 42.99999999999998\n",
      "\n",
      "Определитель матрицы квадратной системы не равен 0, система совместна и имеет единственное решение.\n",
      "\n",
      "A1:\n",
      "[[10 -1  5]\n",
      " [-2  1 -3]\n",
      " [ 1  4  1]]\n",
      "\n",
      "det(A1): 86.00000000000004\n",
      "\n",
      "A2:\n",
      "[[ 2 10  5]\n",
      " [ 1 -2 -3]\n",
      " [ 2  1  1]]\n",
      "\n",
      "det(A2): -43.000000000000014\n",
      "\n",
      "A3:\n",
      "[[ 2 -1 10]\n",
      " [ 1  1 -2]\n",
      " [ 2  4  1]]\n",
      "\n",
      "det(A3): 42.99999999999998\n",
      "\n",
      "x1 = 2.0000000000000018\n",
      "x2 = -1.0000000000000009\n",
      "x3 = 1.0\n"
     ]
    }
   ],
   "source": [
    "# б)\n",
    "\n",
    "A = np.array([[2, -1, 5], [1, 1, -3], [2, 4, 1]])\n",
    "b = np.array([10, -2, 1])\n",
    "\n",
    "det_A = np.linalg.det(A)\n",
    "\n",
    "print(f'A:\\n{A}\\n')\n",
    "print(f'b:\\n{b}\\n')\n",
    "\n",
    "print(f'det(A): {det_A}\\n')\n",
    "\n",
    "if det_A != 0:\n",
    "    print(f'Определитель матрицы квадратной системы не равен 0, система совместна и имеет единственное решение.\\n')\n",
    "\n",
    "A1 = np.column_stack([b, A[:, 1:]])\n",
    "det_A1 = np.linalg.det(A1)\n",
    "\n",
    "print(f'A1:\\n{A1}\\n')\n",
    "print(f'det(A1): {det_A1}\\n')\n",
    "\n",
    "A2 = np.column_stack([A[:, 0], b, A[:, 2]])\n",
    "det_A2 = np.linalg.det(A2)\n",
    "\n",
    "print(f'A2:\\n{A2}\\n')\n",
    "print(f'det(A2): {det_A2}\\n')\n",
    "\n",
    "A3 = np.column_stack([A[:, 0:2], b])\n",
    "det_A3 = np.linalg.det(A3)\n",
    "\n",
    "print(f'A3:\\n{A3}\\n')\n",
    "print(f'det(A3): {det_A3}\\n')\n",
    "\n",
    "print(f'x1 = {det_A1 / det_A}')\n",
    "print(f'x2 = {det_A2 / det_A}')\n",
    "print(f'x3 = {det_A3 / det_A}')"
   ]
  },
  {
   "cell_type": "markdown",
   "metadata": {},
   "source": [
    "#### __2.__ Найти $L$-матрицу $LU$-разложения для матрицы коэффициентов:\n",
    "\n",
    "   а)$$\\begin{pmatrix}\n",
    "1 & 2 & 4 \\\\ \n",
    "2 & 9 & 12 \\\\ \n",
    "3 & 26 & 30\n",
    "\\end{pmatrix}$$\n",
    "    \n",
    "   б)$$\\begin{pmatrix}\n",
    "1 & 1 & 2 & 4\\\\ \n",
    "2 & 5 & 8 & 9\\\\ \n",
    "3 & 18 & 29 & 18\\\\\n",
    "4 & 22 & 53 & 33\n",
    "\\end{pmatrix}$$"
   ]
  },
  {
   "cell_type": "markdown",
   "metadata": {},
   "source": [
    "а)<br>\n",
    "\n",
    "Матрица коэффициентов:<br>\n",
    "\n",
    "$\\begin{pmatrix}\n",
    "1 & 2 & 4 \\\\ \n",
    "2 & 9 & 12 \\\\ \n",
    "3 & 26 & 30\n",
    "\\end{pmatrix}$\n",
    "\n",
    "Умножим 1 строку на 2 и вычтем из 2 строки:<br>\n",
    "\n",
    "Матрица U:<br>\n",
    "\n",
    "$\\begin{pmatrix}\n",
    "1 & 2 & 4 \\\\ \n",
    "0 & 5 & 4 \\\\ \n",
    "3 & 26 & 30\n",
    "\\end{pmatrix}$\n",
    "\n",
    "Матрица L:<br>\n",
    "\n",
    "$\\begin{pmatrix}\n",
    "1 & 0 & 0 \\\\ \n",
    "2 & 1 & 0 \\\\ \n",
    "I_{31} & I_{32} & 1\n",
    "\\end{pmatrix}$\n",
    "\n",
    "Умножим 1 строку на 3 и вычтем из 3 строки:<br>\n",
    "\n",
    "Матрица U:<br>\n",
    "\n",
    "$\\begin{pmatrix}\n",
    "1 & 2 & 4 \\\\ \n",
    "0 & 5 & 4 \\\\ \n",
    "0 & 20 & 18\n",
    "\\end{pmatrix}$\n",
    "\n",
    "Матрица L:<br>\n",
    "\n",
    "$\\begin{pmatrix}\n",
    "1 & 0 & 0 \\\\ \n",
    "2 & 1 & 0 \\\\ \n",
    "3 & I_{32} & 1\n",
    "\\end{pmatrix}$\n",
    "\n",
    "Умножим 2 строку на 4 и вычтем из 3 строки:<br>\n",
    "\n",
    "Матрица U:<br>\n",
    "\n",
    "$\\begin{pmatrix}\n",
    "1 & 2 & 4 \\\\ \n",
    "0 & 5 & 4 \\\\ \n",
    "0 & 0 & 2\n",
    "\\end{pmatrix}$\n",
    "\n",
    "Матрица L:<br>\n",
    "\n",
    "$\\begin{pmatrix}\n",
    "1 & 0 & 0 \\\\ \n",
    "2 & 1 & 0 \\\\ \n",
    "3 & 4 & 1\n",
    "\\end{pmatrix}$"
   ]
  },
  {
   "cell_type": "code",
   "execution_count": 4,
   "metadata": {
    "ExecuteTime": {
     "end_time": "2019-09-21T11:54:21.231586Z",
     "start_time": "2019-09-21T11:54:21.220576Z"
    }
   },
   "outputs": [
    {
     "name": "stdout",
     "output_type": "stream",
     "text": [
      "A:\n",
      "[[ 1  2  4]\n",
      " [ 2  9 12]\n",
      " [ 3 26 30]]\n",
      "\n",
      "L:\n",
      "[[1 0 0]\n",
      " [2 1 0]\n",
      " [3 4 1]]\n",
      "\n",
      "U:\n",
      "[[1 2 4]\n",
      " [0 5 4]\n",
      " [0 0 2]]\n",
      "\n",
      "LU:\n",
      "[[ 1  2  4]\n",
      " [ 2  9 12]\n",
      " [ 3 26 30]]\n",
      "\n"
     ]
    }
   ],
   "source": [
    "A = np.array([[1, 2, 4], [2, 9, 12], [3, 26, 30]])\n",
    "U = np.array([[1, 2, 4], [0, 5, 4], [0, 0, 2]])\n",
    "L = np.array([[1, 0, 0], [2, 1, 0], [3, 4, 1]])\n",
    "\n",
    "LU = np.dot(L, U)\n",
    "\n",
    "print(f'A:\\n{A}\\n')\n",
    "print(f'L:\\n{L}\\n')\n",
    "print(f'U:\\n{U}\\n')\n",
    "print(f'LU:\\n{LU}\\n')"
   ]
  },
  {
   "cell_type": "markdown",
   "metadata": {},
   "source": [
    "б) <br>\n",
    "\n",
    "Матрица коэффициентов:<br>\n",
    "\n",
    "$\\begin{pmatrix}\n",
    "1 & 1 & 2 & 4 \\\\ \n",
    "2 & 5 & 8 & 9 \\\\ \n",
    "3 & 18 & 29 & 18 \\\\\n",
    "4 & 22 & 53 & 33\n",
    "\\end{pmatrix}$\n",
    "\n",
    "Умножим 1 строку на 2 и вычтем из 2 строки: <br>\n",
    "\n",
    "Матрица U:<br>\n",
    "\n",
    "$\\begin{pmatrix}\n",
    "1 & 1 & 2 & 4 \\\\ \n",
    "0 & 3 & 4 & 1 \\\\ \n",
    "3 & 18 & 29 & 18 \\\\\n",
    "4 & 22 & 53 & 33\n",
    "\\end{pmatrix}$\n",
    "\n",
    "Матрица L:<br>\n",
    "\n",
    "$\\begin{pmatrix}\n",
    "1 & 0 & 0 & 0 \\\\ \n",
    "2 & 1 & 0 & 0 \\\\ \n",
    "I_{31} & I_{32} & 1 & 0 \\\\\n",
    "I_{41} & I_{42} & I_{43} & 1\n",
    "\\end{pmatrix}$\n",
    "\n",
    "Умножим 1 строку на 3 и вычтем из 3 строки: <br>\n",
    "\n",
    "Матрица U:<br>\n",
    "\n",
    "$\\begin{pmatrix}\n",
    "1 & 1 & 2 & 4 \\\\ \n",
    "0 & 3 & 4 & 1 \\\\ \n",
    "0 & 15 & 23 & 6 \\\\\n",
    "4 & 22 & 53 & 33\n",
    "\\end{pmatrix}$\n",
    "\n",
    "Матрица L:<br>\n",
    "\n",
    "$\\begin{pmatrix}\n",
    "1 & 0 & 0 & 0 \\\\ \n",
    "2 & 1 & 0 & 0 \\\\ \n",
    "3 & I_{32} & 1 & 0 \\\\\n",
    "I_{41} & I_{42} & I_{43} & 1\n",
    "\\end{pmatrix}$\n",
    "\n",
    "Умножим 1 строку на 4 и вычтем из 4 строки: <br>\n",
    "\n",
    "Матрица U:<br>\n",
    "\n",
    "$\\begin{pmatrix}\n",
    "1 & 1 & 2 & 4 \\\\ \n",
    "0 & 3 & 4 & 1 \\\\ \n",
    "0 & 15 & 23 & 6 \\\\\n",
    "0 & 18 & 45 & 17\n",
    "\\end{pmatrix}$\n",
    "\n",
    "Матрица L:<br>\n",
    "\n",
    "$\\begin{pmatrix}\n",
    "1 & 0 & 0 & 0 \\\\ \n",
    "2 & 1 & 0 & 0 \\\\ \n",
    "3 & I_{32} & 1 & 0 \\\\\n",
    "4 & I_{42} & I_{43} & 1\n",
    "\\end{pmatrix}$\n",
    "\n",
    "Умножим 2 строку на 5 и вычтем из 3 строки: <br>\n",
    "\n",
    "Матрица U:<br>\n",
    "\n",
    "$\\begin{pmatrix}\n",
    "1 & 1 & 2 & 4 \\\\ \n",
    "0 & 3 & 4 & 1 \\\\ \n",
    "0 & 0 & 3 & 1 \\\\\n",
    "0 & 18 & 45 & 17\n",
    "\\end{pmatrix}$\n",
    "\n",
    "Матрица L:<br>\n",
    "\n",
    "$\\begin{pmatrix}\n",
    "1 & 0 & 0 & 0 \\\\ \n",
    "2 & 1 & 0 & 0 \\\\ \n",
    "3 & 5 & 1 & 0 \\\\\n",
    "4 & I_{42} & I_{43} & 1\n",
    "\\end{pmatrix}$\n",
    "\n",
    "Умножим 2 строку на 6 и вычтем из 4 строки: <br>\n",
    "\n",
    "Матрица U:<br>\n",
    "\n",
    "$\\begin{pmatrix}\n",
    "1 & 1 & 2 & 4 \\\\ \n",
    "0 & 3 & 4 & 1 \\\\ \n",
    "0 & 0 & 3 & 1 \\\\\n",
    "0 & 0 & 21 & 11\n",
    "\\end{pmatrix}$\n",
    "\n",
    "Матрица L:<br>\n",
    "\n",
    "$\\begin{pmatrix}\n",
    "1 & 0 & 0 & 0 \\\\ \n",
    "2 & 1 & 0 & 0 \\\\ \n",
    "3 & 5 & 1 & 0 \\\\\n",
    "4 & 6 & I_{43} & 1\n",
    "\\end{pmatrix}$\n",
    "\n",
    "Умножим 3 строку на 7 и вычтем из 4 строки: <br>\n",
    "\n",
    "Матрица U:<br>\n",
    "\n",
    "$\\begin{pmatrix}\n",
    "1 & 1 & 2 & 4 \\\\ \n",
    "0 & 3 & 4 & 1 \\\\ \n",
    "0 & 0 & 3 & 1 \\\\\n",
    "0 & 0 & 0 & 4\n",
    "\\end{pmatrix}$\n",
    "\n",
    "Матрица L:<br>\n",
    "\n",
    "$\\begin{pmatrix}\n",
    "1 & 0 & 0 & 0 \\\\ \n",
    "2 & 1 & 0 & 0 \\\\ \n",
    "3 & 5 & 1 & 0 \\\\\n",
    "4 & 6 & 7 & 1\n",
    "\\end{pmatrix}$"
   ]
  },
  {
   "cell_type": "code",
   "execution_count": 5,
   "metadata": {
    "ExecuteTime": {
     "end_time": "2019-09-21T11:54:21.244513Z",
     "start_time": "2019-09-21T11:54:21.233543Z"
    }
   },
   "outputs": [
    {
     "name": "stdout",
     "output_type": "stream",
     "text": [
      "A:\n",
      "[[ 1  1  2  4]\n",
      " [ 2  5  8  9]\n",
      " [ 3 18 29 18]\n",
      " [ 4 22 53 33]]\n",
      "\n",
      "L:\n",
      "[[1 0 0 0]\n",
      " [2 1 0 0]\n",
      " [3 5 1 0]\n",
      " [4 6 7 1]]\n",
      "\n",
      "U:\n",
      "[[1 1 2 4]\n",
      " [0 3 4 1]\n",
      " [0 0 3 1]\n",
      " [0 0 0 4]]\n",
      "\n",
      "LU:\n",
      "[[ 1  1  2  4]\n",
      " [ 2  5  8  9]\n",
      " [ 3 18 29 18]\n",
      " [ 4 22 53 33]]\n",
      "\n"
     ]
    }
   ],
   "source": [
    "A = np.array([[1, 1, 2, 4], [2, 5, 8, 9], [3, 18, 29, 18], [4, 22, 53, 33]])\n",
    "U = np.array([[1, 1, 2, 4], [0, 3, 4, 1], [0, 0, 3, 1], [0, 0, 0, 4]])\n",
    "L = np.array([[1, 0, 0, 0], [2, 1, 0, 0], [3, 5, 1, 0], [4, 6, 7, 1]])\n",
    "\n",
    "LU = np.dot(L, U)\n",
    "\n",
    "print(f'A:\\n{A}\\n')\n",
    "print(f'L:\\n{L}\\n')\n",
    "print(f'U:\\n{U}\\n')\n",
    "print(f'LU:\\n{LU}\\n')"
   ]
  },
  {
   "cell_type": "markdown",
   "metadata": {},
   "source": [
    "#### __3.__ Решить систему линейных уравнений методом $LU$-разложения\n",
    "\n",
    "$$\\begin{cases}\n",
    "2x_{1}+x_{2}+3x_{3}=1 \\\\\n",
    "11x_{1}+7x_{2}+5x_{3}=-6 \\\\\n",
    "9x_{1}+8x_{2}+4x_{3}=-5\n",
    "\\end{cases}$$"
   ]
  },
  {
   "cell_type": "code",
   "execution_count": 6,
   "metadata": {
    "ExecuteTime": {
     "end_time": "2019-09-21T11:54:21.260470Z",
     "start_time": "2019-09-21T11:54:21.246507Z"
    }
   },
   "outputs": [
    {
     "name": "stdout",
     "output_type": "stream",
     "text": [
      "A:\n",
      "[[ 2  1  3]\n",
      " [11  7  5]\n",
      " [ 9  8  4]]\n",
      "\n",
      "b:\n",
      "[ 1 -6 -5]\n",
      "\n",
      "x:\n",
      "[-1.00000000e+00  2.44249065e-16  1.00000000e+00]\n",
      "\n",
      "Ax:\n",
      "[ 1. -6. -5.]\n",
      "\n",
      "Ax - b:\n",
      "[0. 0. 0.]\n",
      "\n"
     ]
    }
   ],
   "source": [
    "A = np.array([[2, 1, 3], [11, 7, 5], [9, 8, 4]])\n",
    "b = np.array([1, -6, -5])\n",
    "\n",
    "lu, piv = scipy.linalg.lu_factor(A)\n",
    "x = scipy.linalg.lu_solve((lu, piv), b)\n",
    "\n",
    "print(f'A:\\n{A}\\n')\n",
    "print(f'b:\\n{b}\\n')\n",
    "print(f'x:\\n{x}\\n')\n",
    "print(f'Ax:\\n{A @ x}\\n')\n",
    "print(f'Ax - b:\\n{A @ x - b}\\n')"
   ]
  },
  {
   "cell_type": "markdown",
   "metadata": {},
   "source": [
    "#### __4.__ Решить систему линейных уравнений методом Холецкого\n",
    "\n",
    "$$\\begin{cases}\n",
    "81x_{1}-45x_{2}+45x_{3}=531 \\\\\n",
    "-45x_{1}+50x_{2}-15x_{3}=-460 \\\\\n",
    "45x_{1}-15x_{2}+38x_{3}=193\n",
    "\\end{cases}$$"
   ]
  },
  {
   "cell_type": "code",
   "execution_count": 7,
   "metadata": {
    "ExecuteTime": {
     "end_time": "2019-09-21T11:54:21.278423Z",
     "start_time": "2019-09-21T11:54:21.262466Z"
    }
   },
   "outputs": [
    {
     "name": "stdout",
     "output_type": "stream",
     "text": [
      "A:\n",
      "[[ 81 -45  45]\n",
      " [-45  50 -15]\n",
      " [ 45 -15  38]]\n",
      "\n",
      "b:\n",
      "[ 531 -460  193]\n",
      "\n",
      "x:\n",
      "[ 6. -5. -4.]\n",
      "\n",
      "Ax:\n",
      "[ 531. -460.  193.]\n",
      "\n",
      "Ax - b:\n",
      "[0. 0. 0.]\n",
      "\n"
     ]
    }
   ],
   "source": [
    "A = np.array([[81, -45, 45], [-45, 50, -15], [45, -15, 38]])\n",
    "b = np.array([531, -460, 193])\n",
    "\n",
    "K = scipy.linalg.cho_factor(A)\n",
    "x = scipy.linalg.cho_solve(K, b)\n",
    "\n",
    "print(f'A:\\n{A}\\n')\n",
    "print(f'b:\\n{b}\\n')\n",
    "print(f'x:\\n{x}\\n')\n",
    "print(f'Ax:\\n{A @ x}\\n')\n",
    "print(f'Ax - b:\\n{A @ x - b}\\n')"
   ]
  },
  {
   "cell_type": "markdown",
   "metadata": {},
   "source": [
    "#### __5*.__ Написать на Python программу с реализацией одного из изученных алгоритмов решения СЛАУ."
   ]
  },
  {
   "cell_type": "code",
   "execution_count": 8,
   "metadata": {
    "ExecuteTime": {
     "end_time": "2019-09-21T11:54:21.301360Z",
     "start_time": "2019-09-21T11:54:21.282412Z"
    }
   },
   "outputs": [],
   "source": [
    "def LU(A): \n",
    "  \n",
    "    n = len(A)\n",
    "    \n",
    "    L = [[0 for _ in range(n)] for _ in range(n)]\n",
    "    U = [[0 for _ in range(n)] for _ in range(n)] \n",
    "                  \n",
    "    for i in range(n): \n",
    "\n",
    "        for k in range(i, n):  \n",
    "\n",
    "            s = 0; \n",
    "            for j in range(i): \n",
    "                \n",
    "                s += (L[i][j] * U[j][k]) \n",
    "  \n",
    "            U[i][k] = A[i][k] - s\n",
    "  \n",
    "        for k in range(i, n): \n",
    "        \n",
    "            if (i == k):\n",
    "                \n",
    "                L[i][i] = 1\n",
    "                \n",
    "            else:\n",
    "                \n",
    "                s = 0\n",
    "                \n",
    "                for j in range(i): \n",
    "                    \n",
    "                    s += (L[k][j] * U[j][i])\n",
    "  \n",
    "                L[k][i] = int((A[k][i] - s) / U[i][i]) \n",
    "  \n",
    "    return L, U\n"
   ]
  },
  {
   "cell_type": "code",
   "execution_count": 9,
   "metadata": {
    "ExecuteTime": {
     "end_time": "2019-09-21T11:54:21.317317Z",
     "start_time": "2019-09-21T11:54:21.305349Z"
    }
   },
   "outputs": [
    {
     "name": "stdout",
     "output_type": "stream",
     "text": [
      "A:\n",
      "[[ 1  2  4]\n",
      " [ 2  9 12]\n",
      " [ 3 26 30]]\n",
      "\n",
      "L:\n",
      "[[1 0 0]\n",
      " [2 1 0]\n",
      " [3 4 1]]\n",
      "\n",
      "U:\n",
      "[[1 2 4]\n",
      " [0 5 4]\n",
      " [0 0 2]]\n",
      "\n",
      "LU:\n",
      "[[ 1  2  4]\n",
      " [ 2  9 12]\n",
      " [ 3 26 30]]\n",
      "\n"
     ]
    }
   ],
   "source": [
    "A = np.array([[1, 2, 4], [2, 9, 12], [3, 26, 30]])\n",
    "\n",
    "L, U = LU(A)\n",
    "\n",
    "print(f'A:\\n{A}\\n')\n",
    "print(f'L:\\n{np.array(L)}\\n')\n",
    "print(f'U:\\n{np.array(U)}\\n')\n",
    "print(f'LU:\\n{np.array(L) @ np.array(U)}\\n')"
   ]
  },
  {
   "cell_type": "code",
   "execution_count": null,
   "metadata": {},
   "outputs": [],
   "source": []
  }
 ],
 "metadata": {
  "kernelspec": {
   "display_name": "Python 3",
   "language": "python",
   "name": "python3"
  },
  "language_info": {
   "codemirror_mode": {
    "name": "ipython",
    "version": 3
   },
   "file_extension": ".py",
   "mimetype": "text/x-python",
   "name": "python",
   "nbconvert_exporter": "python",
   "pygments_lexer": "ipython3",
   "version": "3.7.6"
  }
 },
 "nbformat": 4,
 "nbformat_minor": 2
}
