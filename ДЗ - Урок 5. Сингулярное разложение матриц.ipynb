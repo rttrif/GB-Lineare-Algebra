{
 "cells": [
  {
   "cell_type": "code",
   "execution_count": 1,
   "metadata": {
    "ExecuteTime": {
     "end_time": "2019-09-21T08:22:41.752152Z",
     "start_time": "2019-09-21T08:22:41.620505Z"
    }
   },
   "outputs": [],
   "source": [
    "import numpy as np\n",
    "np.set_printoptions(precision=2, suppress=True)"
   ]
  },
  {
   "cell_type": "markdown",
   "metadata": {
    "ExecuteTime": {
     "end_time": "2019-09-21T07:59:48.647893Z",
     "start_time": "2019-09-21T07:59:48.640911Z"
    }
   },
   "source": [
    "#### 1. Найти с помощью NumPy SVD для матрицы\n",
    "\n",
    "$$\\begin{pmatrix}\n",
    "1 & 2 & 0\\\\ \n",
    "0 & 0 & 5\\\\ \n",
    "3 & -4 & 2\\\\ \n",
    "1 & 6 & 5\\\\ \n",
    "0 & 1 & 0\n",
    "\\end{pmatrix}.$$"
   ]
  },
  {
   "cell_type": "code",
   "execution_count": 2,
   "metadata": {
    "ExecuteTime": {
     "end_time": "2019-09-21T08:22:41.776089Z",
     "start_time": "2019-09-21T08:22:41.754147Z"
    }
   },
   "outputs": [
    {
     "name": "stdout",
     "output_type": "stream",
     "text": [
      "A:\n",
      "[[ 1  2  0]\n",
      " [ 0  0  5]\n",
      " [ 3 -4  2]\n",
      " [ 1  6  5]\n",
      " [ 0  1  0]]\n",
      "\n",
      "U:\n",
      "[[ 0.17  0.16 -0.53 -0.8  -0.16]\n",
      " [ 0.39 -0.53  0.61 -0.43  0.03]\n",
      " [-0.14 -0.82 -0.52  0.14  0.07]\n",
      " [ 0.89  0.06 -0.25  0.38 -0.06]\n",
      " [ 0.08  0.11 -0.08 -0.11  0.98]]\n",
      "\n",
      "D:\n",
      "[[8.82 0.   0.  ]\n",
      " [0.   6.14 0.  ]\n",
      " [0.   0.   2.53]\n",
      " [0.   0.   0.  ]\n",
      " [0.   0.   0.  ]]\n",
      "\n",
      "V:\n",
      "[[ 0.07 -0.37 -0.93]\n",
      " [ 0.72  0.67 -0.21]\n",
      " [ 0.69 -0.65  0.31]]\n",
      "\n",
      "V.T:\n",
      "[[ 0.07  0.72  0.69]\n",
      " [-0.37  0.67 -0.65]\n",
      " [-0.93 -0.21  0.31]]\n",
      "\n",
      "UDV.T:\n",
      "[[ 1.  2.  0.]\n",
      " [ 0. -0.  5.]\n",
      " [ 3. -4.  2.]\n",
      " [ 1.  6.  5.]\n",
      " [-0.  1.  0.]]\n",
      "\n"
     ]
    }
   ],
   "source": [
    "A = np.array([[1, 2, 0], [0, 0, 5], [3, -4, 2], [1, 6, 5], [0, 1, 0]])\n",
    "\n",
    "U, s, W = np.linalg.svd(A)\n",
    "V = W.T\n",
    "D = np.zeros_like(A, dtype=float)\n",
    "D[np.diag_indices(min(A.shape))] = s\n",
    "\n",
    "print(f'A:\\n{A}\\n')\n",
    "print(f'U:\\n{U}\\n')\n",
    "print(f'D:\\n{D}\\n')\n",
    "print(f'V:\\n{V}\\n')\n",
    "print(f'V.T:\\n{V.T}\\n')\n",
    "print(f'UDV.T:\\n{np.dot(np.dot(U, D), V.T)}\\n')"
   ]
  },
  {
   "cell_type": "markdown",
   "metadata": {},
   "source": [
    "#### 2. Для матрицы из предыдущего задания найти:\n",
    "\n",
    "    а) евклидову норму;\n",
    "    \n",
    "    б) норму Фробениуса."
   ]
  },
  {
   "cell_type": "code",
   "execution_count": 3,
   "metadata": {
    "ExecuteTime": {
     "end_time": "2019-09-21T08:22:41.788057Z",
     "start_time": "2019-09-21T08:22:41.780078Z"
    }
   },
   "outputs": [
    {
     "name": "stdout",
     "output_type": "stream",
     "text": [
      "Trial(Euclidean norm) = 8.824868854820442\n",
      "\n",
      "Check(Euclidean norm) = 8.824868854820444\n",
      "\n"
     ]
    }
   ],
   "source": [
    "# а)\n",
    "\n",
    "E_norm = D[0][0]\n",
    "print(f'Trial(Euclidean norm) = {E_norm}\\n')\n",
    "print(f'Check(Euclidean norm) = {np.linalg.norm(A, ord=2)}\\n')"
   ]
  },
  {
   "cell_type": "code",
   "execution_count": 4,
   "metadata": {
    "ExecuteTime": {
     "end_time": "2019-09-21T08:22:41.807006Z",
     "start_time": "2019-09-21T08:22:41.791049Z"
    }
   },
   "outputs": [
    {
     "name": "stdout",
     "output_type": "stream",
     "text": [
      "Trial(Frobenius norm) = 11.045361017187261\n",
      "\n",
      "Check(Frobenius norm) = 11.045361017187261\n",
      "\n"
     ]
    }
   ],
   "source": [
    "# б)\n",
    "\n",
    "F_norm = np.sqrt(np.sum(np.power(D, 2)))\n",
    "print(f'Trial(Frobenius norm) = {F_norm}\\n')\n",
    "print(f\"Check(Frobenius norm) = {np.linalg.norm(A, ord='fro')}\\n\")"
   ]
  },
  {
   "cell_type": "code",
   "execution_count": null,
   "metadata": {},
   "outputs": [],
   "source": []
  }
 ],
 "metadata": {
  "kernelspec": {
   "display_name": "Python 3",
   "language": "python",
   "name": "python3"
  },
  "language_info": {
   "codemirror_mode": {
    "name": "ipython",
    "version": 3
   },
   "file_extension": ".py",
   "mimetype": "text/x-python",
   "name": "python",
   "nbconvert_exporter": "python",
   "pygments_lexer": "ipython3",
   "version": "3.7.6"
  }
 },
 "nbformat": 4,
 "nbformat_minor": 2
}
