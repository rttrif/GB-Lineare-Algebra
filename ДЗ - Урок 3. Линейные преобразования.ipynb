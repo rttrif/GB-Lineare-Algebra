{
 "cells": [
  {
   "cell_type": "markdown",
   "metadata": {},
   "source": [
    "# Урок 3. Линейные преобразования"
   ]
  },
  {
   "cell_type": "code",
   "execution_count": 1,
   "metadata": {
    "ExecuteTime": {
     "end_time": "2019-09-17T18:30:17.156480Z",
     "start_time": "2019-09-17T18:30:16.988930Z"
    }
   },
   "outputs": [],
   "source": [
    "import numpy as np"
   ]
  },
  {
   "cell_type": "markdown",
   "metadata": {},
   "source": [
    "#### __1.__ Найти собственные векторы и собственные значения для линейного оператора, заданного матрицей\n",
    "\n",
    "$$A=\\begin{pmatrix}\n",
    "-1 & -6\\\\ \n",
    "2 & 6\n",
    "\\end{pmatrix}.$$"
   ]
  },
  {
   "cell_type": "code",
   "execution_count": 2,
   "metadata": {
    "ExecuteTime": {
     "end_time": "2019-09-17T18:30:17.166455Z",
     "start_time": "2019-09-17T18:30:17.158476Z"
    }
   },
   "outputs": [
    {
     "name": "stdout",
     "output_type": "stream",
     "text": [
      "A:\n",
      "[[-1 -6]\n",
      " [ 2  6]]\n",
      "\n"
     ]
    }
   ],
   "source": [
    "A = np.array([[-1, -6], [2, 6]])\n",
    "\n",
    "print(f'A:\\n{A}\\n')"
   ]
  },
  {
   "cell_type": "markdown",
   "metadata": {},
   "source": [
    "Для $n=2$\n",
    "\n",
    "$$det(\\textbf{A}-\\lambda\\textbf{I})=\\begin{vmatrix}\n",
    "a_{11}-\\lambda & a_{12}\\\\ \n",
    "a_{21} & a_{22}-\\lambda\n",
    "\\end{vmatrix} = \\lambda^{2}-(a_{11}+a_{22})\\lambda+(a_{11}a_{22}-a_{12}a_{21}).$$"
   ]
  },
  {
   "cell_type": "markdown",
   "metadata": {},
   "source": [
    "$det(\\textbf{A}-\\lambda\\textbf{I})$ = $0$<br>\n",
    "$\\lambda^{2} - (-1 + 6)\\lambda + (-6 + 12)$ = $\\lambda^{2} - 5\\lambda + 6$ = $0$<br>\n",
    "$D = b^{2} - 4ac$ = $(-5)^{2} - 4 * 1 * 6$ = $25 - 24$ = $1$<br>\n",
    "$x_{1} = 2$<br>\n",
    "$x_{2} = 3$<br>\n",
    "\n",
    "$\\begin{pmatrix}\n",
    "-1 & -6\\\\ \n",
    "2 & 6\n",
    "\\end{pmatrix}\n",
    "\\begin{pmatrix}\n",
    "x_{1}\\\\ \n",
    "x_{2}\n",
    "\\end{pmatrix}=\n",
    "\\lambda\n",
    "\\begin{pmatrix}\n",
    "x_{1}\\\\ \n",
    "x_{2}\n",
    "\\end{pmatrix}.\n",
    "$\n",
    "\n",
    "$\\lambda = 2$<br>\n",
    "\n",
    "$\\begin{cases}\n",
    "-x_{1}-6x_{2} = 2x_{1}, \\\\\n",
    "2x_{1}+6x_{2} = 2x_{2}.\n",
    "\\end{cases}$\n",
    "\n",
    "$\\begin{cases}\n",
    "3x_{1} = -6x_{2}, \\\\\n",
    "2x_{2} = -x_{1} .\n",
    "\\end{cases}$\n",
    "\n",
    "$\\begin{cases}\n",
    "x_{1} = -2x_{2}, \\\\\n",
    "2x_{2} = -x_{1} .\n",
    "\\end{cases}$\n",
    "\n",
    "$\\begin{cases}\n",
    "x_{1} = -2, \\\\\n",
    "x_{2} = 1 .\n",
    "\\end{cases}$\n",
    "\n",
    "v1 = (-2, 1)<br>\n",
    "\n",
    "$\\lambda = 3$<br>\n",
    "\n",
    "$\\begin{cases}\n",
    "-x_{1}-6x_{2} = 3x_{1}, \\\\\n",
    "2x_{1}+6x_{2} = 3x_{2}.\n",
    "\\end{cases}$\n",
    "\n",
    "$\\begin{cases}\n",
    "4x_{1} = -6x_{2}, \\\\\n",
    "2x_{1} = -3x_{2}.\n",
    "\\end{cases}$\n",
    "\n",
    "$\\begin{cases}\n",
    "x_{1} = -\\frac{3}{2}x_{2}, \\\\\n",
    "x_{1} = -\\frac{3}{2}x_{2}.\n",
    "\\end{cases}$\n",
    "\n",
    "$\\begin{cases}\n",
    "x_{1} = \\frac{3}{2}, \\\\\n",
    "x_{2} = -1.\n",
    "\\end{cases}$\n",
    "\n",
    "v2 = ($\\frac{3}{2}$, -1)<br>"
   ]
  },
  {
   "cell_type": "code",
   "execution_count": 3,
   "metadata": {
    "ExecuteTime": {
     "end_time": "2019-09-17T18:30:17.180418Z",
     "start_time": "2019-09-17T18:30:17.168448Z"
    }
   },
   "outputs": [
    {
     "name": "stdout",
     "output_type": "stream",
     "text": [
      "A:\n",
      "[[-1 -6]\n",
      " [ 2  6]]\n",
      "\n",
      "Собственные значения:\n",
      "[2 3]\n",
      "\n",
      "Собственные векторы:\n",
      "[-2  1], [ 1.5 -1. ]\n",
      "\n",
      "Нормированные собственные векторы:\n",
      "[-0.89442719  0.4472136 ], [ 0.83205029 -0.5547002 ]\n",
      "\n"
     ]
    }
   ],
   "source": [
    "v1 = np.array([-2, 1])\n",
    "v2 = np.array([3/2, -1])\n",
    "\n",
    "n1 = np.linalg.norm(v1)\n",
    "n2 = np.linalg.norm(v2)\n",
    "\n",
    "print(f'A:\\n{A}\\n')\n",
    "print(f'Собственные значения:\\n{np.array([2, 3])}\\n')\n",
    "print(f'Собственные векторы:\\n{v1}, {v2}\\n')\n",
    "print(f'Нормированные собственные векторы:\\n{v1/n1}, {v2/n2}\\n')"
   ]
  },
  {
   "cell_type": "code",
   "execution_count": 4,
   "metadata": {
    "ExecuteTime": {
     "end_time": "2019-09-17T18:30:17.196374Z",
     "start_time": "2019-09-17T18:30:17.182413Z"
    }
   },
   "outputs": [
    {
     "name": "stdout",
     "output_type": "stream",
     "text": [
      "A:\n",
      "[[-1 -6]\n",
      " [ 2  6]]\n",
      "\n",
      "Собственные значения:\n",
      "[2. 3.]\n",
      "\n",
      "Собственные векторы:\n",
      "[-0.89442719  0.4472136 ], [ 0.83205029 -0.5547002 ]\n",
      "\n"
     ]
    }
   ],
   "source": [
    "w, v = np.linalg.eig(A)\n",
    "\n",
    "print(f'A:\\n{A}\\n')\n",
    "print(f'Собственные значения:\\n{w}\\n')\n",
    "print(f'Собственные векторы:\\n{v[:, 0]}, {v[:, 1]}\\n')"
   ]
  },
  {
   "cell_type": "markdown",
   "metadata": {},
   "source": [
    "#### __2.__ Дан оператор поворота на 180 градусов, задаваемый матрицей \n",
    "\n",
    "$$A=\\begin{pmatrix}\n",
    "-1 & 0\\\\ \n",
    "0 & -1\n",
    "\\end{pmatrix}.$$\n",
    "\n",
    "Показать, что __любой__ вектор является для него собственным."
   ]
  },
  {
   "cell_type": "code",
   "execution_count": 5,
   "metadata": {
    "ExecuteTime": {
     "end_time": "2019-09-17T18:30:17.206348Z",
     "start_time": "2019-09-17T18:30:17.198370Z"
    }
   },
   "outputs": [
    {
     "name": "stdout",
     "output_type": "stream",
     "text": [
      "A:\n",
      "[[-1  0]\n",
      " [ 0 -1]]\n",
      "\n"
     ]
    }
   ],
   "source": [
    "A = np.array([[-1, 0], [0, -1]])\n",
    "\n",
    "print(f'A:\\n{A}\\n')"
   ]
  },
  {
   "cell_type": "code",
   "execution_count": 6,
   "metadata": {
    "ExecuteTime": {
     "end_time": "2019-09-17T18:30:17.220309Z",
     "start_time": "2019-09-17T18:30:17.208343Z"
    }
   },
   "outputs": [
    {
     "name": "stdout",
     "output_type": "stream",
     "text": [
      "A:\n",
      "[[-1  0]\n",
      " [ 0 -1]]\n",
      "\n",
      "Собственные значения:\n",
      "[-1. -1.]\n",
      "\n",
      "Собственные векторы:\n",
      "[1. 0.], [0. 1.]\n",
      "\n"
     ]
    }
   ],
   "source": [
    "w, v = np.linalg.eig(A)\n",
    "\n",
    "print(f'A:\\n{A}\\n')\n",
    "print(f'Собственные значения:\\n{w}\\n')\n",
    "print(f'Собственные векторы:\\n{v[:, 0]}, {v[:, 1]}\\n')"
   ]
  },
  {
   "cell_type": "markdown",
   "metadata": {
    "ExecuteTime": {
     "end_time": "2019-09-16T19:48:18.907168Z",
     "start_time": "2019-09-16T19:48:18.899191Z"
    }
   },
   "source": [
    "Собственным вектором линейного оператора A (матрицы A) называется ненулевой вектор x такой, что Ax = λx.<br>\n",
    "Для единичной матрицы E любой вектор x является собственным, с собственным числом, равным 1, так как Ex = x.<br>\n",
    "Так как матрица A диагональная, тогда собственные значения: $\\lambda_{1} = -1, \\lambda_{2} =-1$.<br>\n",
    "$A$ = $-1E$<br>\n",
    "$-1Ex$ = $\\lambda x$<br>\n",
    "$-1x$ = $\\lambda x$<br>\n",
    "$\\lambda$ = $-1$<br>\n",
    "Таким образом, любой ненулевой вектор $x$ является собственным для линейного оператора $A$ = $-1E$."
   ]
  },
  {
   "cell_type": "code",
   "execution_count": null,
   "metadata": {
    "ExecuteTime": {
     "end_time": "2019-09-17T18:23:17.756502Z",
     "start_time": "2019-09-17T18:23:17.749520Z"
    }
   },
   "outputs": [],
   "source": []
  },
  {
   "cell_type": "code",
   "execution_count": 7,
   "metadata": {
    "ExecuteTime": {
     "end_time": "2019-09-17T18:30:17.950358Z",
     "start_time": "2019-09-17T18:30:17.222305Z"
    }
   },
   "outputs": [
    {
     "name": "stdout",
     "output_type": "stream",
     "text": [
      "1.0\n"
     ]
    }
   ],
   "source": [
    "# проверим на практике с помощью метода Монте-Карло:\n",
    "\n",
    "x = np.array([np.random.randint(1, 999), np.random.randint(1, 999)])\n",
    "\n",
    "trials = []\n",
    "\n",
    "n = 100000\n",
    "\n",
    "for _ in range(n):\n",
    "    trial = np.array_equal(np.dot(A, x), -1 * x)\n",
    "    trials.append(trial)\n",
    "    \n",
    "print(np.sum(trials) / n)"
   ]
  },
  {
   "cell_type": "markdown",
   "metadata": {},
   "source": [
    "#### __3.__ Пусть линейный оператор задан матрицей\n",
    "\n",
    "$$A=\\begin{pmatrix}\n",
    "1 & 1\\\\ \n",
    "-1 & 3\n",
    "\\end{pmatrix}.$$\n",
    "\n",
    "Установить, является ли вектор $x=(1,1)$ собственным вектором этого линейного оператора."
   ]
  },
  {
   "cell_type": "markdown",
   "metadata": {},
   "source": [
    "$\\begin{pmatrix}\n",
    "1 & 1\\\\ \n",
    "-1 & 3\n",
    "\\end{pmatrix}\n",
    "\\begin{pmatrix}\n",
    "1\\\\ \n",
    "1 \n",
    "\\end{pmatrix}=\n",
    "\\lambda\n",
    "\\begin{pmatrix}\n",
    "1\\\\ \n",
    "1\n",
    "\\end{pmatrix}.\n",
    "$\n",
    "\n",
    "$\\begin{cases}\n",
    "1 + 1 = 1\\cdot\\lambda \\\\ \n",
    "-1 + 3 = 1\\cdot \\lambda\n",
    "\\end{cases}\n",
    "\\Rightarrow\n",
    "\\begin{cases}\n",
    "\\lambda=2\\\\ \n",
    "\\lambda=2\n",
    "\\end{cases}.$\n",
    "\n",
    "Ответ: вектор $𝑥=(1,1)$ является собственным вектором линейного оператора A, а его собственное значения составляет $\\lambda=2$."
   ]
  },
  {
   "cell_type": "markdown",
   "metadata": {},
   "source": [
    "#### __4.__ Пусть линейный оператор задан матрицей\n",
    "\n",
    "$$A=\\begin{pmatrix}\n",
    "0 & 3 & 0\\\\ \n",
    "3 & 0 & 0\\\\\n",
    "0 & 0 & 3\n",
    "\\end{pmatrix}.$$\n",
    "\n",
    "Установить, является ли вектор $x=(3, -3, -4)$ собственным вектором этого линейного оператора."
   ]
  },
  {
   "cell_type": "markdown",
   "metadata": {},
   "source": [
    "$\\begin{pmatrix}\n",
    "0 & 3 & 0\\\\ \n",
    "3 & 0 & 0\\\\\n",
    "0 & 0 & 3\n",
    "\\end{pmatrix}\n",
    "\\begin{pmatrix}\n",
    "3\\\\\n",
    "-3\\\\\n",
    "-4\n",
    "\\end{pmatrix}=\n",
    "\\lambda\n",
    "\\begin{pmatrix}\n",
    "3\\\\\n",
    "-3\\\\\n",
    "-4\n",
    "\\end{pmatrix}\n",
    "$\n",
    "\n",
    "$\\Rightarrow\n",
    "\\begin{cases}\n",
    "3\\lambda=-9\\\\ \n",
    "-3\\lambda=9\\\\\n",
    "-4\\lambda=-12\n",
    "\\end{cases}\n",
    "$\n",
    "$\\Rightarrow\n",
    "\\begin{cases}\n",
    "\\lambda=-3\\\\ \n",
    "\\lambda=-3\\\\\n",
    "\\lambda=3\n",
    "\\end{cases}\n",
    "$\n",
    "\n",
    "Ответ: вектор $x=(3, -3, -4)$ не является собственным вектором линейного оператора A."
   ]
  },
  {
   "cell_type": "code",
   "execution_count": null,
   "metadata": {},
   "outputs": [],
   "source": []
  }
 ],
 "metadata": {
  "kernelspec": {
   "display_name": "Python 3",
   "language": "python",
   "name": "python3"
  },
  "language_info": {
   "codemirror_mode": {
    "name": "ipython",
    "version": 3
   },
   "file_extension": ".py",
   "mimetype": "text/x-python",
   "name": "python",
   "nbconvert_exporter": "python",
   "pygments_lexer": "ipython3",
   "version": "3.7.6"
  }
 },
 "nbformat": 4,
 "nbformat_minor": 2
}
