{
 "cells": [
  {
   "cell_type": "markdown",
   "metadata": {},
   "source": [
    "# Урок 2. Матрицы и матричные операции"
   ]
  },
  {
   "cell_type": "markdown",
   "metadata": {},
   "source": [
    "## Матрицы и матричные операции. Часть 1"
   ]
  },
  {
   "cell_type": "code",
   "execution_count": 1,
   "metadata": {
    "ExecuteTime": {
     "end_time": "2019-09-15T05:27:30.230706Z",
     "start_time": "2019-09-15T05:27:30.106039Z"
    }
   },
   "outputs": [],
   "source": [
    "import numpy as np\n",
    "import math\n",
    "import copy"
   ]
  },
  {
   "cell_type": "code",
   "execution_count": 2,
   "metadata": {
    "ExecuteTime": {
     "end_time": "2019-09-15T05:27:30.240680Z",
     "start_time": "2019-09-15T05:27:30.233698Z"
    }
   },
   "outputs": [],
   "source": [
    "def generate_matrix(n, m, min_value=0, max_value=9):\n",
    "    try:\n",
    "        return np.random.randint(min_value, max_value+1, (n, m))\n",
    "    except Exception as e:\n",
    "        return e\n",
    "\n",
    "def check(A, B):\n",
    "    try:\n",
    "        if len(A[0]) == len(B):\n",
    "            return True\n",
    "        else:\n",
    "            return False\n",
    "    except Exception as e:\n",
    "        print(f'Exception: {e}')\n",
    "        return False\n",
    "    "
   ]
  },
  {
   "cell_type": "markdown",
   "metadata": {},
   "source": [
    "#### __1.__ Установить, какие произведения матриц $AB$ и $BA$ определены, и найти размерности полученных матриц:\n",
    "\n",
    "   а) $A$ — матрица $4\\times 2$, $B$ — матрица $4\\times 2$;\n",
    "    \n",
    "   б) $A$ — матрица $2\\times 5$, $B$ — матрица $5\\times 3$;\n",
    "    \n",
    "   в) $A$ — матрица $8\\times 3$, $B$ — матрица $3\\times 8$;\n",
    "    \n",
    "   г) $A$ — квадратная матрица $4\\times 4$, $B$ — квадратная матрица $4\\times 4$."
   ]
  },
  {
   "cell_type": "code",
   "execution_count": 3,
   "metadata": {
    "ExecuteTime": {
     "end_time": "2019-09-15T05:27:30.257634Z",
     "start_time": "2019-09-15T05:27:30.243671Z"
    }
   },
   "outputs": [
    {
     "name": "stdout",
     "output_type": "stream",
     "text": [
      "A:\n",
      "[[5 5]\n",
      " [4 5]\n",
      " [4 2]\n",
      " [8 0]]\n",
      "\n",
      "B:\n",
      "[[7 9]\n",
      " [0 6]\n",
      " [7 2]\n",
      " [3 8]]\n",
      "\n",
      "Произведение матриц A x B не определено.\n",
      "\n",
      "Произведение матриц A x B не определено.\n",
      "\n"
     ]
    }
   ],
   "source": [
    "# а)\n",
    "\n",
    "A = generate_matrix(4, 2)\n",
    "B = generate_matrix(4, 2)\n",
    "\n",
    "print(f'A:\\n{A}\\n')\n",
    "print(f'B:\\n{B}\\n')\n",
    "\n",
    "if check(A, B):\n",
    "    print(f'A x B:\\n{np.dot(A, B)}\\n')\n",
    "else:\n",
    "    print('Произведение матриц A x B не определено.\\n')\n",
    "    \n",
    "if check(B, A):\n",
    "    print(f'B x A:\\n{np.dot(B, A)}\\n')\n",
    "else:\n",
    "    print('Произведение матриц A x B не определено.\\n')\n",
    "    "
   ]
  },
  {
   "cell_type": "code",
   "execution_count": 4,
   "metadata": {
    "ExecuteTime": {
     "end_time": "2019-09-15T05:27:30.272594Z",
     "start_time": "2019-09-15T05:27:30.259628Z"
    }
   },
   "outputs": [
    {
     "name": "stdout",
     "output_type": "stream",
     "text": [
      "A:\n",
      "[[8 4 4 4 7]\n",
      " [0 6 2 0 0]]\n",
      "\n",
      "B:\n",
      "[[4 6 2]\n",
      " [3 9 0]\n",
      " [1 7 4]\n",
      " [8 7 4]\n",
      " [6 5 1]]\n",
      "\n",
      "A x B:\n",
      "[[122 175  55]\n",
      " [ 20  68   8]]\n",
      "\n",
      "Произведение матриц A x B не определено.\n",
      "\n"
     ]
    }
   ],
   "source": [
    "# б)\n",
    "\n",
    "A = generate_matrix(2, 5)\n",
    "B = generate_matrix(5, 3)\n",
    "\n",
    "print(f'A:\\n{A}\\n')\n",
    "print(f'B:\\n{B}\\n')\n",
    "\n",
    "if check(A, B):\n",
    "    print(f'A x B:\\n{np.dot(A, B)}\\n')\n",
    "else:\n",
    "    print('Произведение матриц A x B не определено.\\n')\n",
    "    \n",
    "if check(B, A):\n",
    "    print(f'B x A:\\n{np.dot(B, A)}\\n')\n",
    "else:\n",
    "    print('Произведение матриц A x B не определено.\\n')\n",
    "    "
   ]
  },
  {
   "cell_type": "code",
   "execution_count": 5,
   "metadata": {
    "ExecuteTime": {
     "end_time": "2019-09-15T05:27:30.287553Z",
     "start_time": "2019-09-15T05:27:30.274588Z"
    }
   },
   "outputs": [
    {
     "name": "stdout",
     "output_type": "stream",
     "text": [
      "A:\n",
      "[[4 4 0]\n",
      " [9 1 1]\n",
      " [1 5 4]\n",
      " [8 4 4]\n",
      " [6 7 3]\n",
      " [5 0 0]\n",
      " [8 2 6]\n",
      " [8 2 9]]\n",
      "\n",
      "B:\n",
      "[[1 9 7 8 9 0 0 0]\n",
      " [7 9 9 5 2 9 5 5]\n",
      " [9 9 2 6 9 3 4 6]]\n",
      "\n",
      "A x B:\n",
      "[[ 32  72  64  52  44  36  20  20]\n",
      " [ 25  99  74  83  92  12   9  11]\n",
      " [ 72  90  60  57  55  57  41  49]\n",
      " [ 72 144 100 108 116  48  36  44]\n",
      " [ 82 144 111 101  95  72  47  53]\n",
      " [  5  45  35  40  45   0   0   0]\n",
      " [ 76 144  86 110 130  36  34  46]\n",
      " [103 171  92 128 157  45  46  64]]\n",
      "\n",
      "B x A:\n",
      "[[210 143  96]\n",
      " [295 136 146]\n",
      " [316 162 146]]\n",
      "\n"
     ]
    }
   ],
   "source": [
    "# в)\n",
    "\n",
    "A = generate_matrix(8, 3)\n",
    "B = generate_matrix(3, 8)\n",
    "\n",
    "print(f'A:\\n{A}\\n')\n",
    "print(f'B:\\n{B}\\n')\n",
    "\n",
    "if check(A, B):\n",
    "    print(f'A x B:\\n{np.dot(A, B)}\\n')\n",
    "else:\n",
    "    print('Произведение матриц A x B не определено.\\n')\n",
    "    \n",
    "if check(B, A):\n",
    "    print(f'B x A:\\n{np.dot(B, A)}\\n')\n",
    "else:\n",
    "    print('Произведение матриц A x B не определено.\\n')\n",
    "    "
   ]
  },
  {
   "cell_type": "code",
   "execution_count": 6,
   "metadata": {
    "ExecuteTime": {
     "end_time": "2019-09-15T05:27:30.298525Z",
     "start_time": "2019-09-15T05:27:30.289548Z"
    }
   },
   "outputs": [
    {
     "name": "stdout",
     "output_type": "stream",
     "text": [
      "A:\n",
      "[[5 3 8 6]\n",
      " [1 6 8 5]\n",
      " [8 2 0 5]\n",
      " [0 4 6 5]]\n",
      "\n",
      "B:\n",
      "[[4 7 7 0]\n",
      " [6 0 0 3]\n",
      " [7 4 2 3]\n",
      " [3 7 8 9]]\n",
      "\n",
      "A x B:\n",
      "[[112 109  99  87]\n",
      " [111  74  63  87]\n",
      " [ 59  91  96  51]\n",
      " [ 81  59  52  75]]\n",
      "\n",
      "B x A:\n",
      "[[ 83  68  88  94]\n",
      " [ 30  30  66  51]\n",
      " [ 55  61 106  87]\n",
      " [ 86 103 134 138]]\n",
      "\n"
     ]
    }
   ],
   "source": [
    "# г)\n",
    "\n",
    "A = generate_matrix(4, 4)\n",
    "B = generate_matrix(4, 4)\n",
    "\n",
    "print(f'A:\\n{A}\\n')\n",
    "print(f'B:\\n{B}\\n')\n",
    "\n",
    "if check(A, B):\n",
    "    print(f'A x B:\\n{np.dot(A, B)}\\n')\n",
    "else:\n",
    "    print('Произведение матриц A x B не определено.\\n')\n",
    "    \n",
    "if check(B, A):\n",
    "    print(f'B x A:\\n{np.dot(B, A)}\\n')\n",
    "else:\n",
    "    print('Произведение матриц A x B не определено.\\n')\n",
    "    "
   ]
  },
  {
   "cell_type": "markdown",
   "metadata": {},
   "source": [
    "#### __2.__ Найти сумму и произведение матриц $A=\\begin{pmatrix}\n",
    "1 & -2\\\\ \n",
    "3 & 0\n",
    "\\end{pmatrix}$ и $B=\\begin{pmatrix}\n",
    "4 & -1\\\\ \n",
    "0 & 5\n",
    "\\end{pmatrix}.$"
   ]
  },
  {
   "cell_type": "code",
   "execution_count": 7,
   "metadata": {
    "ExecuteTime": {
     "end_time": "2019-09-15T05:27:30.315479Z",
     "start_time": "2019-09-15T05:27:30.300519Z"
    }
   },
   "outputs": [
    {
     "name": "stdout",
     "output_type": "stream",
     "text": [
      "A:\n",
      "[[ 1 -2]\n",
      " [ 3  0]]\n",
      "\n",
      "B:\n",
      "[[ 4 -1]\n",
      " [ 0  5]]\n",
      "\n",
      "A + B:\n",
      "[[ 5 -3]\n",
      " [ 3  5]]\n",
      "\n",
      "A x B:\n",
      "[[  4 -11]\n",
      " [ 12  -3]]\n",
      "\n",
      "B x A:\n",
      "[[ 1 -8]\n",
      " [15  0]]\n",
      "\n"
     ]
    }
   ],
   "source": [
    "A = np.array([[1, -2], [3, 0]])\n",
    "B = np.array([[4, -1], [0, 5]])\n",
    "\n",
    "print(f'A:\\n{A}\\n')\n",
    "print(f'B:\\n{B}\\n')\n",
    "\n",
    "print(f'A + B:\\n{A + B}\\n')\n",
    "print(f'A x B:\\n{np.dot(A, B)}\\n')\n",
    "print(f'B x A:\\n{np.dot(B, A)}\\n')\n"
   ]
  },
  {
   "cell_type": "markdown",
   "metadata": {},
   "source": [
    "#### __3.__ Из закономерностей сложения и умножения матриц на число можно сделать вывод, что матрицы одного размера образуют линейное пространство. Вычислить линейную комбинацию $3A-2B+4C$ для матриц $A=\\begin{pmatrix}\n",
    "1 & 7\\\\ \n",
    "3 & -6\n",
    "\\end{pmatrix}$, $B=\\begin{pmatrix}\n",
    "0 & 5\\\\ \n",
    "2 & -1\n",
    "\\end{pmatrix}$, $C=\\begin{pmatrix}\n",
    "2 & -4\\\\ \n",
    "1 & 1\n",
    "\\end{pmatrix}.$"
   ]
  },
  {
   "cell_type": "code",
   "execution_count": 8,
   "metadata": {
    "ExecuteTime": {
     "end_time": "2019-09-15T05:27:30.328445Z",
     "start_time": "2019-09-15T05:27:30.318472Z"
    }
   },
   "outputs": [
    {
     "name": "stdout",
     "output_type": "stream",
     "text": [
      "A:\n",
      "[[ 1  7]\n",
      " [ 3 -6]]\n",
      "\n",
      "B:\n",
      "[[ 0  5]\n",
      " [ 2 -1]]\n",
      "\n",
      "C:\n",
      "[[ 2 -4]\n",
      " [ 1  1]]\n",
      "\n",
      "3A - 2B + 4C:\n",
      "[[ 11  -5]\n",
      " [  9 -12]]\n",
      "\n"
     ]
    }
   ],
   "source": [
    "A = np.array([[1, 7], [3, -6]])\n",
    "B = np.array([[0, 5], [2, -1]])\n",
    "C = np.array([[2, -4], [1, 1]])\n",
    "\n",
    "print(f'A:\\n{A}\\n')\n",
    "print(f'B:\\n{B}\\n')\n",
    "print(f'C:\\n{C}\\n')\n",
    "\n",
    "print(f'3A - 2B + 4C:\\n{3 * A - 2 * B + 4 * C}\\n')\n"
   ]
  },
  {
   "cell_type": "markdown",
   "metadata": {},
   "source": [
    "#### __4.__ Дана матрица $A=\\begin{pmatrix}\n",
    "4 & 1\\\\ \n",
    "5 & -2\\\\ \n",
    "2 & 3\n",
    "\\end{pmatrix}$.\n",
    "Вычислить $AA^{T}$ и $A^{T}A$."
   ]
  },
  {
   "cell_type": "code",
   "execution_count": 9,
   "metadata": {
    "ExecuteTime": {
     "end_time": "2019-09-15T05:27:30.343405Z",
     "start_time": "2019-09-15T05:27:30.330439Z"
    }
   },
   "outputs": [
    {
     "name": "stdout",
     "output_type": "stream",
     "text": [
      "A:\n",
      "[[ 4  1]\n",
      " [ 5 -2]\n",
      " [ 2  3]]\n",
      "\n",
      "A.T:\n",
      "[[ 4  5  2]\n",
      " [ 1 -2  3]]\n",
      "\n",
      "A x A.T:\n",
      "[[17 18 11]\n",
      " [18 29  4]\n",
      " [11  4 13]]\n",
      "\n",
      "A.T x A:\n",
      "[[45  0]\n",
      " [ 0 14]]\n",
      "\n"
     ]
    }
   ],
   "source": [
    "A = np.array([[4, 1], [5, -2], [2, 3]])\n",
    "\n",
    "print(f'A:\\n{A}\\n')\n",
    "print(f'A.T:\\n{A.T}\\n')\n",
    "\n",
    "print(f'A x A.T:\\n{np.dot(A, A.T)}\\n')\n",
    "print(f'A.T x A:\\n{np.dot(A.T, A)}\\n')\n"
   ]
  },
  {
   "cell_type": "markdown",
   "metadata": {},
   "source": [
    "#### __5*.__ Написать на Python функцию для перемножения двух произвольных матриц, не используя NumPy."
   ]
  },
  {
   "cell_type": "code",
   "execution_count": 10,
   "metadata": {
    "ExecuteTime": {
     "end_time": "2019-09-15T05:27:30.356371Z",
     "start_time": "2019-09-15T05:27:30.345399Z"
    }
   },
   "outputs": [],
   "source": [
    "def generate_array(n, m, min_value=0, max_value=9):\n",
    "    try:\n",
    "        return [[np.random.randint(min_value, max_value+1) for _ in range(m)] for _ in range(n)]\n",
    "    except Exception as e:\n",
    "        return e\n",
    "\n",
    "def matrix_product(A, B):\n",
    "    try:\n",
    "        C = generate_array(len(A), len(B[0]), 0, 0)\n",
    "        for i in range(len(A)):  \n",
    "            for j in range(len(B[0])): \n",
    "                for k in range(len(B)): \n",
    "                    C[i][j] += A[i][k] * B[k][j]\n",
    "        return C\n",
    "    except Exception as e:\n",
    "        return e\n"
   ]
  },
  {
   "cell_type": "code",
   "execution_count": 11,
   "metadata": {
    "ExecuteTime": {
     "end_time": "2019-09-15T05:27:30.370333Z",
     "start_time": "2019-09-15T05:27:30.359363Z"
    }
   },
   "outputs": [
    {
     "name": "stdout",
     "output_type": "stream",
     "text": [
      "A:\n",
      "[[1, 4, 5, 3], [6, 1, 3, 3]]\n",
      "\n",
      "B:\n",
      "[[1, 4], [7, 9], [0, 2], [9, 3]]\n",
      "\n",
      "Trial(A x B):\n",
      "[[56, 59], [40, 48]]\n",
      "\n",
      "Check(A x B):\n",
      "[[56 59]\n",
      " [40 48]]\n",
      "\n"
     ]
    }
   ],
   "source": [
    "n, m, k = 2, 4, 2\n",
    "\n",
    "A = generate_array(n, m)\n",
    "B = generate_array(m, k)\n",
    "\n",
    "print(f'A:\\n{A}\\n')\n",
    "print(f'B:\\n{B}\\n')\n",
    "\n",
    "if check(A, B):\n",
    "    print(f'Trial(A x B):\\n{matrix_product(A, B)}\\n')\n",
    "else:\n",
    "    print('Произведение матриц A x B не определено.\\n')\n",
    "\n",
    "if check(A, B):\n",
    "    print(f'Check(A x B):\\n{np.dot(A, B)}\\n')\n",
    "else:\n",
    "    print('Произведение матриц A x B не определено.\\n')\n"
   ]
  },
  {
   "cell_type": "markdown",
   "metadata": {},
   "source": [
    "## Матрицы и матричные операции. Часть 2"
   ]
  },
  {
   "cell_type": "code",
   "execution_count": 12,
   "metadata": {
    "ExecuteTime": {
     "end_time": "2019-09-15T11:02:55.388980Z",
     "start_time": "2019-09-15T11:02:55.380000Z"
    }
   },
   "outputs": [],
   "source": [
    "def matrix_determinant_2x2_3x3(A):\n",
    "    try:\n",
    "        if len(A) == len(A[0]):\n",
    "            if len(A) == 2:\n",
    "                det = A[0][0] * A[1][1] - A[0][1] * A[1][0]\n",
    "                return det\n",
    "            elif len(A) == 3:\n",
    "                det = (\n",
    "                    A[0][0] * A[1][1] * A[2][2] +\n",
    "                    A[0][1] * A[1][2] * A[2][0] +\n",
    "                    A[0][2] * A[1][0] * A[2][1] -\n",
    "                    A[0][2] * A[1][1] * A[2][0] -\n",
    "                    A[0][1] * A[1][0] * A[2][2] -\n",
    "                    A[0][0] * A[1][2] * A[2][1]\n",
    "                )\n",
    "                return det\n",
    "            else:\n",
    "                return 'Only 2x2 or 3x3 matricies'\n",
    "        else:\n",
    "            return 'Determinant is not defined'\n",
    "    except Exception as e:\n",
    "        return e\n",
    "    "
   ]
  },
  {
   "cell_type": "markdown",
   "metadata": {},
   "source": [
    "#### __1.__ Вычислить определитель:\n",
    "\n",
    "   a)\n",
    "\n",
    "$$\\begin{vmatrix}\n",
    "sinx & -cosx\\\\ \n",
    "cosx & sinx\n",
    "\\end{vmatrix};$$\n",
    "\n",
    "   б)\n",
    "    \n",
    "$$\\begin{vmatrix}\n",
    "4 & 2 & 3\\\\ \n",
    "0 & 5 & 1\\\\ \n",
    "0 & 0 & 9\n",
    "\\end{vmatrix};$$\n",
    "    \n",
    "   в)\n",
    "\n",
    "$$\\begin{vmatrix}\n",
    "1 & 2 & 3\\\\ \n",
    "4 & 5 & 6\\\\ \n",
    "7 & 8 & 9\n",
    "\\end{vmatrix}.$$"
   ]
  },
  {
   "cell_type": "code",
   "execution_count": 13,
   "metadata": {
    "ExecuteTime": {
     "end_time": "2019-09-15T11:02:55.406928Z",
     "start_time": "2019-09-15T11:02:55.390971Z"
    }
   },
   "outputs": [
    {
     "name": "stdout",
     "output_type": "stream",
     "text": [
      "A:\n",
      "[[ 0.70710678 -0.70710678]\n",
      " [ 0.70710678  0.70710678]]\n",
      "\n",
      "Trial(det(A)): 1.0000000000000002\n",
      "\n",
      "Check(det(A)): 1.0\n",
      "\n"
     ]
    }
   ],
   "source": [
    "# а)\n",
    "\n",
    "x = math.pi / 4\n",
    "\n",
    "A = np.array([[math.sin(x), -math.cos(x)], [math.cos(x), math.sin(x)]])\n",
    "\n",
    "print(f'A:\\n{A}\\n')\n",
    "\n",
    "print(f'Trial(det(A)): {matrix_determinant_2x2_3x3(A)}\\n')\n",
    "\n",
    "print(f'Check(det(A)): {np.linalg.det(A)}\\n')"
   ]
  },
  {
   "cell_type": "code",
   "execution_count": 14,
   "metadata": {
    "ExecuteTime": {
     "end_time": "2019-09-15T11:02:55.416901Z",
     "start_time": "2019-09-15T11:02:55.408923Z"
    }
   },
   "outputs": [
    {
     "name": "stdout",
     "output_type": "stream",
     "text": [
      "A:\n",
      "[[4 2 3]\n",
      " [0 5 1]\n",
      " [0 0 9]]\n",
      "\n",
      "Trial(det(A)): 180\n",
      "\n",
      "Check(det(A)): 180.0\n",
      "\n"
     ]
    }
   ],
   "source": [
    "# б)\n",
    "\n",
    "A = np.array([[4, 2, 3], [0, 5, 1], [0, 0, 9]])\n",
    "\n",
    "print(f'A:\\n{A}\\n')\n",
    "\n",
    "print(f'Trial(det(A)): {matrix_determinant_2x2_3x3(A)}\\n')\n",
    "\n",
    "print(f'Check(det(A)): {np.linalg.det(A)}\\n')"
   ]
  },
  {
   "cell_type": "code",
   "execution_count": 15,
   "metadata": {
    "ExecuteTime": {
     "end_time": "2019-09-15T11:02:55.429881Z",
     "start_time": "2019-09-15T11:02:55.418895Z"
    }
   },
   "outputs": [
    {
     "name": "stdout",
     "output_type": "stream",
     "text": [
      "A:\n",
      "[[1 2 3]\n",
      " [4 5 6]\n",
      " [7 8 9]]\n",
      "\n",
      "Trial(det(A)): 0\n",
      "\n",
      "Check(det(A)): -9.51619735392994e-16\n",
      "\n"
     ]
    }
   ],
   "source": [
    "# в)\n",
    "\n",
    "A = np.array([[1, 2, 3], [4, 5, 6], [7, 8, 9]])\n",
    "\n",
    "print(f'A:\\n{A}\\n')\n",
    "\n",
    "print(f'Trial(det(A)): {matrix_determinant_2x2_3x3(A)}\\n')\n",
    "\n",
    "print(f'Check(det(A)): {np.linalg.det(A)}\\n')"
   ]
  },
  {
   "cell_type": "markdown",
   "metadata": {},
   "source": [
    "#### __2.__ Определитель матрицы $A$ равен $4$. Найти:\n",
    "\n",
    "   а) $det(A^{2})$;\n",
    "    \n",
    "   б) $det(A^{T})$;\n",
    "    \n",
    "   в) $det(2A)$."
   ]
  },
  {
   "cell_type": "code",
   "execution_count": 16,
   "metadata": {
    "ExecuteTime": {
     "end_time": "2019-09-15T11:02:55.440837Z",
     "start_time": "2019-09-15T11:02:55.431861Z"
    }
   },
   "outputs": [
    {
     "name": "stdout",
     "output_type": "stream",
     "text": [
      "A:\n",
      "[[ 1 -2]\n",
      " [ 1  2]]\n",
      "\n",
      "det(A): 4.0\n",
      "\n"
     ]
    }
   ],
   "source": [
    "A = np.array([[1, -2], [1, 2]])\n",
    "\n",
    "print(f'A:\\n{A}\\n')\n",
    "print(f'det(A): {np.linalg.det(A)}\\n')"
   ]
  },
  {
   "cell_type": "markdown",
   "metadata": {},
   "source": [
    "а) $det(A^{2})$:\n",
    "\n",
    "$det(A) = 4$<br>\n",
    "\n",
    "$A^{2}$ = $A x A$<br>\n",
    "$det(A x B)$ = $det(A) * det(B)$<br>\n",
    "$det(A^{2})$ = $det(A x A)$ = $det(A) * det(A)$<br>\n",
    "$det(A^{2})$ = $4 * 4$ = $16$<br>"
   ]
  },
  {
   "cell_type": "code",
   "execution_count": 17,
   "metadata": {
    "ExecuteTime": {
     "end_time": "2019-09-15T11:02:55.452805Z",
     "start_time": "2019-09-15T11:02:55.442832Z"
    }
   },
   "outputs": [
    {
     "name": "stdout",
     "output_type": "stream",
     "text": [
      "A:\n",
      "[[ 1 -2]\n",
      " [ 1  2]]\n",
      "\n",
      "det(A): 4.0\n",
      "\n",
      "A^2:\n",
      "[[-1 -6]\n",
      " [ 3  2]]\n",
      "\n",
      "det(A^2): 16.000000000000007\n",
      "\n"
     ]
    }
   ],
   "source": [
    "print(f'A:\\n{A}\\n')\n",
    "print(f'det(A): {np.linalg.det(A)}\\n')\n",
    "print(f'A^2:\\n{np.dot(A, A)}\\n')\n",
    "print(f'det(A^2): {np.linalg.det(np.dot(A, A))}\\n')"
   ]
  },
  {
   "cell_type": "markdown",
   "metadata": {},
   "source": [
    "б) $det(A^{T})$:\n",
    "\n",
    "$det(A) = 4$<br>\n",
    "\n",
    "$det(A)$ = $det(A^{T})$<br>\n",
    "$det(A^{T})$ = $det(A)$ = $4$<br>"
   ]
  },
  {
   "cell_type": "code",
   "execution_count": 18,
   "metadata": {
    "ExecuteTime": {
     "end_time": "2019-09-15T11:02:55.465771Z",
     "start_time": "2019-09-15T11:02:55.456795Z"
    }
   },
   "outputs": [
    {
     "name": "stdout",
     "output_type": "stream",
     "text": [
      "A:\n",
      "[[ 1 -2]\n",
      " [ 1  2]]\n",
      "\n",
      "det(A): 4.0\n",
      "\n",
      "A:\n",
      "[[ 1  1]\n",
      " [-2  2]]\n",
      "\n",
      "det(A.T): 4.0\n",
      "\n"
     ]
    }
   ],
   "source": [
    "print(f'A:\\n{A}\\n')\n",
    "print(f'det(A): {np.linalg.det(A)}\\n')\n",
    "print(f'A:\\n{A.T}\\n')\n",
    "print(f'det(A.T): {np.linalg.det(A.T)}\\n')"
   ]
  },
  {
   "cell_type": "markdown",
   "metadata": {
    "ExecuteTime": {
     "end_time": "2019-09-14T07:56:47.058265Z",
     "start_time": "2019-09-14T07:56:47.049286Z"
    }
   },
   "source": [
    "в) $det(2A)$:\n",
    "\n",
    "$det(A) = 4$<br>\n",
    "\n",
    "$det(kA)$ = $k^{n}det(A)$, где n - кол-во строк (столбцов) квадратной матрицы A размера n x n<br>\n",
    "$det(2A)$ = $k^{n}det(A)$ = $2^{n} * 4$ = $2^{n+2}$<br>"
   ]
  },
  {
   "cell_type": "code",
   "execution_count": 19,
   "metadata": {
    "ExecuteTime": {
     "end_time": "2019-09-15T11:02:55.476751Z",
     "start_time": "2019-09-15T11:02:55.467765Z"
    }
   },
   "outputs": [
    {
     "name": "stdout",
     "output_type": "stream",
     "text": [
      "A:\n",
      "[[ 1 -2]\n",
      " [ 1  2]]\n",
      "\n",
      "det(A): 4.0\n",
      "\n",
      "2A:\n",
      "[[ 2 -4]\n",
      " [ 2  4]]\n",
      "\n",
      "det(2A): 16\n",
      "\n",
      "det(2A): 15.999999999999998\n",
      "\n"
     ]
    }
   ],
   "source": [
    "print(f'A:\\n{A}\\n')\n",
    "print(f'det(A): {np.linalg.det(A)}\\n')\n",
    "print(f'2A:\\n{np.dot(2, A)}\\n')\n",
    "print(f'det(2A): {2**(A.shape[0] + 2)}\\n')\n",
    "print(f'det(2A): {np.linalg.det(2 * A)}\\n')"
   ]
  },
  {
   "cell_type": "markdown",
   "metadata": {},
   "source": [
    "#### __3.__  Доказать, что матрица\n",
    "\n",
    "$$\\begin{pmatrix}\n",
    "-2 & 7 & -3\\\\ \n",
    "4 & -14 & 6\\\\ \n",
    "-3 & 7 & 13\n",
    "\\end{pmatrix}$$\n",
    "   \n",
    "вырожденная."
   ]
  },
  {
   "cell_type": "markdown",
   "metadata": {},
   "source": [
    "1) Если $det(A) = 0$, то матрица A вырождена.<br>\n",
    "2) Если, как минимум, две строки матрицы A линейно зависимы, то матрица A вырождена.<br>"
   ]
  },
  {
   "cell_type": "code",
   "execution_count": 20,
   "metadata": {
    "ExecuteTime": {
     "end_time": "2019-09-15T11:02:55.487712Z",
     "start_time": "2019-09-15T11:02:55.478736Z"
    }
   },
   "outputs": [
    {
     "name": "stdout",
     "output_type": "stream",
     "text": [
      "A:\n",
      "[[ -2   7  -3]\n",
      " [  4 -14   6]\n",
      " [ -3   7  13]]\n",
      "\n"
     ]
    }
   ],
   "source": [
    "A = np.array([[-2, 7, -3], [4, -14, 6], [-3, 7, 13]])\n",
    "\n",
    "print(f'A:\\n{A}\\n')"
   ]
  },
  {
   "cell_type": "code",
   "execution_count": 21,
   "metadata": {
    "ExecuteTime": {
     "end_time": "2019-09-15T11:02:55.499680Z",
     "start_time": "2019-09-15T11:02:55.489707Z"
    }
   },
   "outputs": [
    {
     "name": "stdout",
     "output_type": "stream",
     "text": [
      "A:\n",
      "[[ -2   7  -3]\n",
      " [  4 -14   6]\n",
      " [ -3   7  13]]\n",
      "\n",
      "det(A): 0.0\n",
      "\n"
     ]
    }
   ],
   "source": [
    "# 1)\n",
    "\n",
    "print(f'A:\\n{A}\\n')\n",
    "print(f'det(A): {np.linalg.det( A)}\\n')"
   ]
  },
  {
   "cell_type": "code",
   "execution_count": 22,
   "metadata": {
    "ExecuteTime": {
     "end_time": "2019-09-15T11:02:55.514640Z",
     "start_time": "2019-09-15T11:02:55.501675Z"
    }
   },
   "outputs": [
    {
     "name": "stdout",
     "output_type": "stream",
     "text": [
      "A:\n",
      "[[ -2   7  -3]\n",
      " [  4 -14   6]\n",
      " [ -3   7  13]]\n",
      "\n",
      "Умножим первую строку матрицы A на -2:\n",
      "-2[-2  7 -3] = [  4 -14   6]\n",
      "\n",
      "В результате умножения получаем вторую строку матрицы A:\n",
      "[  4 -14   6] = [  4 -14   6]\n",
      "Вторая строка матрицы A является линейной комбинацией первой строки матрицы A.\n",
      "Первая и вторая строки матрицы A линейнозависимы.\n"
     ]
    }
   ],
   "source": [
    "# 2)\n",
    "\n",
    "print(f'A:\\n{A}\\n')\n",
    "print(f'Умножим первую строку матрицы A на -2:')\n",
    "print(f'-2{A[0]} = {A[1]}\\n')\n",
    "print(f'В результате умножения получаем вторую строку матрицы A:')\n",
    "print(f'{-2 * A[0]} = {A[1]}')\n",
    "print(f'Вторая строка матрицы A является линейной комбинацией первой строки матрицы A.')\n",
    "print(f'Первая и вторая строки матрицы A линейнозависимы.')"
   ]
  },
  {
   "cell_type": "markdown",
   "metadata": {},
   "source": [
    "#### __4.__ Найти ранг матрицы:\n",
    "\n",
    "   а) $\\begin{pmatrix}\n",
    "1 & 2 & 3\\\\ \n",
    "1 & 1 & 1\\\\ \n",
    "2 & 3 & 4\n",
    "\\end{pmatrix};$\n",
    "\n",
    "   б) $\\begin{pmatrix}\n",
    "0 & 0 & 2 & 1\\\\ \n",
    "0 & 0 & 2 & 2\\\\ \n",
    "0 & 0 & 4 & 3\\\\ \n",
    "2 & 3 & 5 & 6\n",
    "\\end{pmatrix}.$"
   ]
  },
  {
   "cell_type": "markdown",
   "metadata": {},
   "source": [
    "__Определение__\n",
    "\n",
    "_Строчным рангом матрицы_ называется максимальное число линейно независимых строк этой матрицы.\n",
    "\n",
    "_Столбцовым рангом матрицы_ называется максимальное число линейно независимых столбцов этой матрицы.\n",
    "\n",
    "__Теорема__\n",
    "\n",
    "_Строчный ранг матрицы всегда совпадает с столбцовым и равен максимальному размеру ее невырожденного минора._"
   ]
  },
  {
   "cell_type": "code",
   "execution_count": 23,
   "metadata": {
    "ExecuteTime": {
     "end_time": "2019-09-15T11:02:55.525611Z",
     "start_time": "2019-09-15T11:02:55.516634Z"
    }
   },
   "outputs": [
    {
     "name": "stdout",
     "output_type": "stream",
     "text": [
      "A:\n",
      "[[1 2 3]\n",
      " [1 1 1]\n",
      " [2 3 4]]\n",
      "\n"
     ]
    }
   ],
   "source": [
    "# а)\n",
    "\n",
    "A = np.array([[1, 2, 3], [1, 1, 1], [2, 3, 4]])\n",
    "\n",
    "print(f'A:\\n{A}\\n')"
   ]
  },
  {
   "cell_type": "code",
   "execution_count": 24,
   "metadata": {
    "ExecuteTime": {
     "end_time": "2019-09-15T11:02:55.540571Z",
     "start_time": "2019-09-15T11:02:55.527605Z"
    }
   },
   "outputs": [
    {
     "name": "stdout",
     "output_type": "stream",
     "text": [
      "A:\n",
      "[[1 2 3]\n",
      " [1 1 1]\n",
      " [2 3 4]]\n",
      "\n",
      "Сложим первую и вторую строки матрицы A:\n",
      "[1 2 3] + [1 1 1] = [2 3 4]\n",
      "\n",
      "В результате сложения получаем третью строку матрицы A:\n",
      "[2 3 4]\n",
      "\n",
      "Третья строка матрицы A является линейной комбинацией первой и второй строк матрицы A.\n",
      "rank(A): 2\n",
      "\n"
     ]
    }
   ],
   "source": [
    "print(f'A:\\n{A}\\n')\n",
    "print(f'Сложим первую и вторую строки матрицы A:')\n",
    "print(f'{A[0]} + {A[1]} = {A[0] + A[1]}\\n')\n",
    "print(f'В результате сложения получаем третью строку матрицы A:')\n",
    "print(f'{A[2]}\\n')\n",
    "print(f'Третья строка матрицы A является линейной комбинацией первой и второй строк матрицы A.')\n",
    "print(f'rank(A): 2\\n')"
   ]
  },
  {
   "cell_type": "code",
   "execution_count": 25,
   "metadata": {
    "ExecuteTime": {
     "end_time": "2019-09-15T11:02:55.553536Z",
     "start_time": "2019-09-15T11:02:55.542565Z"
    }
   },
   "outputs": [
    {
     "name": "stdout",
     "output_type": "stream",
     "text": [
      "A:\n",
      "[[1 2 3]\n",
      " [1 1 1]\n",
      " [2 3 4]]\n",
      "\n",
      "rank(A): 2\n",
      "\n"
     ]
    }
   ],
   "source": [
    "print(f'A:\\n{A}\\n')\n",
    "print(f'rank(A): {np.linalg.matrix_rank(A)}\\n')"
   ]
  },
  {
   "cell_type": "code",
   "execution_count": 26,
   "metadata": {
    "ExecuteTime": {
     "end_time": "2019-09-15T11:02:55.564506Z",
     "start_time": "2019-09-15T11:02:55.555531Z"
    }
   },
   "outputs": [
    {
     "name": "stdout",
     "output_type": "stream",
     "text": [
      "A:\n",
      "[[0 0 2 1]\n",
      " [0 0 2 2]\n",
      " [0 0 4 3]\n",
      " [2 3 5 6]]\n",
      "\n"
     ]
    }
   ],
   "source": [
    "# б)\n",
    "\n",
    "A = np.array([[0, 0, 2, 1], [0, 0, 2, 2], [0, 0, 4, 3], [2, 3, 5, 6]])\n",
    "\n",
    "print(f'A:\\n{A}\\n')"
   ]
  },
  {
   "cell_type": "code",
   "execution_count": 27,
   "metadata": {
    "ExecuteTime": {
     "end_time": "2019-09-15T11:02:55.578469Z",
     "start_time": "2019-09-15T11:02:55.566503Z"
    }
   },
   "outputs": [
    {
     "name": "stdout",
     "output_type": "stream",
     "text": [
      "A:\n",
      "[[0 0 2 1]\n",
      " [0 0 2 2]\n",
      " [0 0 4 3]\n",
      " [2 3 5 6]]\n",
      "\n",
      "Вычтем из третьей строки вторую строку A:\n",
      "[0 0 4 3] - [0 0 2 2] = [0 0 2 1]\n",
      "\n",
      "В результате вычитания получаем первую строку матрицы A:\n",
      "[0 0 2 1]\n",
      "\n",
      "Первая строка матрицы A является линейной комбинацией втрой и третьей строк матрицы A.\n",
      "rank(A): 3\n",
      "\n"
     ]
    }
   ],
   "source": [
    "print(f'A:\\n{A}\\n')\n",
    "print(f'Вычтем из третьей строки вторую строку A:')\n",
    "print(f'{A[2]} - {A[1]} = {A[2] - A[1]}\\n')\n",
    "print(f'В результате вычитания получаем первую строку матрицы A:')\n",
    "print(f'{A[0]}\\n')\n",
    "print(f'Первая строка матрицы A является линейной комбинацией втрой и третьей строк матрицы A.')\n",
    "print(f'rank(A): 3\\n')"
   ]
  },
  {
   "cell_type": "code",
   "execution_count": 28,
   "metadata": {
    "ExecuteTime": {
     "end_time": "2019-09-15T11:02:55.589440Z",
     "start_time": "2019-09-15T11:02:55.580464Z"
    }
   },
   "outputs": [
    {
     "name": "stdout",
     "output_type": "stream",
     "text": [
      "A:\n",
      "[[0 0 2 1]\n",
      " [0 0 2 2]\n",
      " [0 0 4 3]\n",
      " [2 3 5 6]]\n",
      "\n",
      "rank(A): 3\n",
      "\n"
     ]
    }
   ],
   "source": [
    "print(f'A:\\n{A}\\n')\n",
    "print(f'rank(A): {np.linalg.matrix_rank(A)}\\n')"
   ]
  },
  {
   "cell_type": "markdown",
   "metadata": {},
   "source": [
    "#### __5*.__ Написать на Python функцию для нахождения определителя матрицы размера n x n, не используя NumPy."
   ]
  },
  {
   "cell_type": "code",
   "execution_count": 29,
   "metadata": {
    "ExecuteTime": {
     "end_time": "2019-09-15T11:02:55.602405Z",
     "start_time": "2019-09-15T11:02:55.591435Z"
    }
   },
   "outputs": [],
   "source": [
    "def matrix_determinant(A):\n",
    "    try:\n",
    "        n = len(A)\n",
    "        m = len(A[0])\n",
    "\n",
    "        if n == m:            \n",
    "            if n == 2:\n",
    "                det = A[0][0] * A[1][1] - A[0][1] * A[1][0]\n",
    "                return det\n",
    "\n",
    "            norms = []\n",
    "\n",
    "            for row in A:\n",
    "                norm = 0\n",
    "                for col in row:\n",
    "                    norm += math.sqrt(math.pow(col, 2))\n",
    "                norms.append(norm)\n",
    "\n",
    "            i = 0\n",
    "            min_norm = norms[0]\n",
    "\n",
    "            for idx, norm in enumerate(norms[1:], start=1):\n",
    "                if norm < min_norm:\n",
    "                    min_norm = norm\n",
    "                    i = idx\n",
    "            \n",
    "            det = 0\n",
    "            for j in range(m):\n",
    "                M = [[col for cidx, col in enumerate(row) if cidx != j ] for ridx, row in enumerate(A) if ridx != i]\n",
    "                sign = (-1) ** ((i + 1 + j + 1) % 2)\n",
    "                det += sign * A[i][j] * matrix_determinant(M)\n",
    "                \n",
    "            return det\n",
    "        else:\n",
    "            return 'Determinant is not defined'\n",
    "    except Exception as e:\n",
    "        return e\n",
    "    "
   ]
  },
  {
   "cell_type": "code",
   "execution_count": 30,
   "metadata": {
    "ExecuteTime": {
     "end_time": "2019-09-15T11:02:55.616368Z",
     "start_time": "2019-09-15T11:02:55.604400Z"
    }
   },
   "outputs": [
    {
     "name": "stdout",
     "output_type": "stream",
     "text": [
      "A:\n",
      " [[4 2 3]\n",
      " [0 5 1]\n",
      " [0 0 9]]\n",
      "\n",
      "Trial(det(A)): 180\n",
      "Check(det(A)): 180.0\n"
     ]
    }
   ],
   "source": [
    "A = np.array([[4, 2, 3], [0, 5, 1], [0, 0, 9]])\n",
    "\n",
    "print(f'A:\\n {A}\\n')\n",
    "print(f'Trial(det(A)): {matrix_determinant(A)}')\n",
    "print(f'Check(det(A)): {np.linalg.det(A)}')"
   ]
  },
  {
   "cell_type": "code",
   "execution_count": 31,
   "metadata": {
    "ExecuteTime": {
     "end_time": "2019-09-15T11:02:55.626354Z",
     "start_time": "2019-09-15T11:02:55.618363Z"
    }
   },
   "outputs": [
    {
     "name": "stdout",
     "output_type": "stream",
     "text": [
      "A:\n",
      " [[1 2 3]\n",
      " [4 5 6]\n",
      " [7 8 9]]\n",
      "\n",
      "Trial(det(A)): 0\n",
      "Check(det(A)): -9.51619735392994e-16\n"
     ]
    }
   ],
   "source": [
    "A = np.array([[1, 2, 3], [4, 5, 6], [7, 8, 9]])\n",
    "\n",
    "print(f'A:\\n {A}\\n')\n",
    "print(f'Trial(det(A)): {matrix_determinant(A)}')\n",
    "print(f'Check(det(A)): {np.linalg.det(A)}')"
   ]
  },
  {
   "cell_type": "code",
   "execution_count": 32,
   "metadata": {
    "ExecuteTime": {
     "end_time": "2019-09-15T11:02:55.640304Z",
     "start_time": "2019-09-15T11:02:55.628335Z"
    },
    "scrolled": true
   },
   "outputs": [
    {
     "name": "stdout",
     "output_type": "stream",
     "text": [
      "A:\n",
      " [[2 5 1 3]\n",
      " [4 1 7 9]\n",
      " [6 8 3 2]\n",
      " [7 8 1 4]]\n",
      "\n",
      "Trial(det(A)): 630\n",
      "Check(det(A)): 630.0000000000001\n"
     ]
    }
   ],
   "source": [
    "A = np.array([[2, 5, 1, 3], [4, 1, 7, 9], [6, 8, 3, 2], [7, 8, 1, 4]])\n",
    "\n",
    "print(f'A:\\n {A}\\n')\n",
    "print(f'Trial(det(A)): {matrix_determinant(A)}')\n",
    "print(f'Check(det(A)): {np.linalg.det(A)}')"
   ]
  },
  {
   "cell_type": "code",
   "execution_count": null,
   "metadata": {},
   "outputs": [],
   "source": []
  },
  {
   "cell_type": "code",
   "execution_count": 38,
   "metadata": {},
   "outputs": [
    {
     "ename": "IndentationError",
     "evalue": "unindent does not match any outer indentation level (<tokenize>, line 27)",
     "output_type": "error",
     "traceback": [
      "\u001b[1;36m  File \u001b[1;32m\"<tokenize>\"\u001b[1;36m, line \u001b[1;32m27\u001b[0m\n\u001b[1;33m    a)\u001b[0m\n\u001b[1;37m    ^\u001b[0m\n\u001b[1;31mIndentationError\u001b[0m\u001b[1;31m:\u001b[0m unindent does not match any outer indentation level\n"
     ]
    }
   ],
   "source": [
    "def matrix_determinant_2x2_3x3(A):\n",
    "    try:\n",
    "        if len(A) == len(A[0]):\n",
    "            if len(A) == 2:\n",
    "                det = A[0][0] * A[1][1] - A[0][1] * A[1][0]\n",
    "                return det\n",
    "            elif len(A) == 3:\n",
    "                det = (\n",
    "                    A[0][0] * A[1][1] * A[2][2] +\n",
    "                    A[0][1] * A[1][2] * A[2][0] +\n",
    "                    A[0][2] * A[1][0] * A[2][1] -\n",
    "                    A[0][2] * A[1][1] * A[2][0] -\n",
    "                    A[0][1] * A[1][0] * A[2][2] -\n",
    "                    A[0][0] * A[1][2] * A[2][1]\n",
    "                )\n",
    "                return det\n",
    "            else:\n",
    "                return 'Only 2x2 or 3x3 matricies'\n",
    "        else:\n",
    "            return 'Determinant is not defined'\n",
    "    except Exception as e:\n",
    "        return e\n",
    "    \n",
    "\n",
    "#### __1.__ Вычислить определитель:\n",
    "\n",
    "   a)\n",
    "\n",
    "$$\\begin{vmatrix}\n",
    "sinx & -cosx\\\\ \n",
    "cosx & sinx\n",
    "\\end{vmatrix};$$\n",
    "\n",
    "   б)\n",
    "    \n",
    "$$\\begin{vmatrix}\n",
    "4 & 2 & 3\\\\ \n",
    "0 & 5 & 1\\\\ \n",
    "0 & 0 & 9\n",
    "\\end{vmatrix};$$\n",
    "    \n",
    "   в)\n",
    "\n",
    "$$\\begin{vmatrix}\n",
    "1 & 2 & 3\\\\ \n",
    "4 & 5 & 6\\\\ \n",
    "7 & 8 & 9\n",
    "\\end{vmatrix}.$$\n",
    "\n",
    "# а)\n",
    "\n",
    "x = math.pi / 4\n",
    "\n",
    "A = np.array([[math.sin(x), -math.cos(x)], [math.cos(x), math.sin(x)]])\n",
    "\n",
    "print(f'A:\\n{A}\\n')\n",
    "\n",
    "print(f'Trial(det(A)): {matrix_determinant_2x2_3x3(A)}\\n')\n",
    "\n",
    "print(f'Check(det(A)): {np.linalg.det(A)}\\n')\n",
    "\n",
    "# б)\n",
    "\n",
    "A = np.array([[4, 2, 3], [0, 5, 1], [0, 0, 9]])\n",
    "\n",
    "print(f'A:\\n{A}\\n')\n",
    "\n",
    "print(f'Trial(det(A)): {matrix_determinant_2x2_3x3(A)}\\n')\n",
    "\n",
    "print(f'Check(det(A)): {np.linalg.det(A)}\\n')\n",
    "\n",
    "# в)\n",
    "\n",
    "A = np.array([[1, 2, 3], [4, 5, 6], [7, 8, 9]])\n",
    "\n",
    "print(f'A:\\n{A}\\n')\n",
    "\n",
    "print(f'Trial(det(A)): {matrix_determinant_2x2_3x3(A)}\\n')\n",
    "\n",
    "print(f'Check(det(A)): {np.linalg.det(A)}\\n')\n",
    "\n",
    "#### __2.__ Определитель матрицы $A$ равен $4$. Найти:\n",
    "\n",
    "   а) $det(A^{2})$;\n",
    "    \n",
    "   б) $det(A^{T})$;\n",
    "    \n",
    "   в) $det(2A)$.\n",
    "\n",
    "A = np.array([[1, -2], [1, 2]])\n",
    "\n",
    "print(f'A:\\n{A}\\n')\n",
    "print(f'det(A): {np.linalg.det(A)}\\n')\n",
    "\n",
    "а) $det(A^{2})$:\n",
    "\n",
    "$det(A) = 4$<br>\n",
    "\n",
    "$A^{2}$ = $A x A$<br>\n",
    "$det(A x B)$ = $det(A) * det(B)$<br>\n",
    "$det(A^{2})$ = $det(A x A)$ = $det(A) * det(A)$<br>\n",
    "$det(A^{2})$ = $4 * 4$ = $16$<br>\n",
    "\n",
    "print(f'A:\\n{A}\\n')\n",
    "print(f'det(A): {np.linalg.det(A)}\\n')\n",
    "print(f'A^2:\\n{np.dot(A, A)}\\n')\n",
    "print(f'det(A^2): {np.linalg.det(np.dot(A, A))}\\n')\n",
    "\n",
    "б) $det(A^{T})$:\n",
    "\n",
    "$det(A) = 4$<br>\n",
    "\n",
    "$det(A)$ = $det(A^{T})$<br>\n",
    "$det(A^{T})$ = $det(A)$ = $4$<br>\n",
    "\n",
    "print(f'A:\\n{A}\\n')\n",
    "print(f'det(A): {np.linalg.det(A)}\\n')\n",
    "print(f'A:\\n{A.T}\\n')\n",
    "print(f'det(A.T): {np.linalg.det(A.T)}\\n')\n",
    "\n",
    "в) $det(2A)$:\n",
    "\n",
    "$det(A) = 4$<br>\n",
    "\n",
    "$det(kA)$ = $k^{n}det(A)$, где n - кол-во строк (столбцов) квадратной матрицы A размера n x n<br>\n",
    "$det(2A)$ = $k^{n}det(A)$ = $2^{n} * 4$ = $2^{n+2}$<br>\n",
    "\n",
    "print(f'A:\\n{A}\\n')\n",
    "print(f'det(A): {np.linalg.det(A)}\\n')\n",
    "print(f'2A:\\n{np.dot(2, A)}\\n')\n",
    "print(f'det(2A): {2**(A.shape[0] + 2)}\\n')\n",
    "print(f'det(2A): {np.linalg.det(2 * A)}\\n')\n",
    "\n",
    "#### __3.__  Доказать, что матрица\n",
    "\n",
    "$$\\begin{pmatrix}\n",
    "-2 & 7 & -3\\\\ \n",
    "4 & -14 & 6\\\\ \n",
    "-3 & 7 & 13\n",
    "\\end{pmatrix}$$\n",
    "   \n",
    "вырожденная.\n",
    "\n",
    "1) Если $det(A) = 0$, то матрица A вырождена.<br>\n",
    "2) Если, как минимум, две строки матрицы A линейно зависимы, то матрица A вырождена.<br>\n",
    "\n",
    "A = np.array([[-2, 7, -3], [4, -14, 6], [-3, 7, 13]])\n",
    "\n",
    "print(f'A:\\n{A}\\n')\n",
    "\n",
    "# 1)\n",
    "\n",
    "print(f'A:\\n{A}\\n')\n",
    "print(f'det(A): {np.linalg.det( A)}\\n')\n",
    "\n",
    "# 2)\n",
    "\n",
    "print(f'A:\\n{A}\\n')\n",
    "print(f'Умножим первую строку матрицы A на -2:')\n",
    "print(f'-2{A[0]} = {A[1]}\\n')\n",
    "print(f'В результате умножения получаем вторую строку матрицы A:')\n",
    "print(f'{-2 * A[0]} = {A[1]}')\n",
    "print(f'Вторая строка матрицы A является линейной комбинацией первой строки матрицы A.')\n",
    "print(f'Первая и вторая строки матрицы A линейнозависимы.')\n",
    "\n",
    "#### __4.__ Найти ранг матрицы:\n",
    "\n",
    "   а) $\\begin{pmatrix}\n",
    "1 & 2 & 3\\\\ \n",
    "1 & 1 & 1\\\\ \n",
    "2 & 3 & 4\n",
    "\\end{pmatrix};$\n",
    "\n",
    "   б) $\\begin{pmatrix}\n",
    "0 & 0 & 2 & 1\\\\ \n",
    "0 & 0 & 2 & 2\\\\ \n",
    "0 & 0 & 4 & 3\\\\ \n",
    "2 & 3 & 5 & 6\n",
    "\\end{pmatrix}.$\n",
    "\n",
    "__Определение__\n",
    "\n",
    "_Строчным рангом матрицы_ называется максимальное число линейно независимых строк этой матрицы.\n",
    "\n",
    "_Столбцовым рангом матрицы_ называется максимальное число линейно независимых столбцов этой матрицы.\n",
    "\n",
    "__Теорема__\n",
    "\n",
    "_Строчный ранг матрицы всегда совпадает с столбцовым и равен максимальному размеру ее невырожденного минора._\n",
    "\n",
    "# а)\n",
    "\n",
    "A = np.array([[1, 2, 3], [1, 1, 1], [2, 3, 4]])\n",
    "\n",
    "print(f'A:\\n{A}\\n')\n",
    "\n",
    "print(f'A:\\n{A}\\n')\n",
    "print(f'Сложим первую и вторую строки матрицы A:')\n",
    "print(f'{A[0]} + {A[1]} = {A[0] + A[1]}\\n')\n",
    "print(f'В результате сложения получаем третью строку матрицы A:')\n",
    "print(f'{A[2]}\\n')\n",
    "print(f'Третья строка матрицы A является линейной комбинацией первой и второй строк матрицы A.')\n",
    "print(f'rank(A): 2\\n')\n",
    "\n",
    "print(f'A:\\n{A}\\n')\n",
    "print(f'rank(A): {np.linalg.matrix_rank(A)}\\n')\n",
    "\n",
    "# б)\n",
    "\n",
    "A = np.array([[0, 0, 2, 1], [0, 0, 2, 2], [0, 0, 4, 3], [2, 3, 5, 6]])\n",
    "\n",
    "print(f'A:\\n{A}\\n')\n",
    "\n",
    "print(f'A:\\n{A}\\n')\n",
    "print(f'Вычтем из третьей строки вторую строку A:')\n",
    "print(f'{A[2]} - {A[1]} = {A[2] - A[1]}\\n')\n",
    "print(f'В результате вычитания получаем первую строку матрицы A:')\n",
    "print(f'{A[0]}\\n')\n",
    "print(f'Первая строка матрицы A является линейной комбинацией втрой и третьей строк матрицы A.')\n",
    "print(f'rank(A): 3\\n')\n",
    "\n",
    "print(f'A:\\n{A}\\n')\n",
    "print(f'rank(A): {np.linalg.matrix_rank(A)}\\n')\n",
    "\n",
    "#### __5*.__ Написать на Python функцию для нахождения определителя матрицы размера n x n, не используя NumPy.\n",
    "\n",
    "def matrix_determinant(A):\n",
    "    try:\n",
    "        n = len(A)\n",
    "        m = len(A[0])\n",
    "\n",
    "        if n == m:            \n",
    "            if n == 2:\n",
    "                det = A[0][0] * A[1][1] - A[0][1] * A[1][0]\n",
    "                return det\n",
    "\n",
    "            norms = []\n",
    "\n",
    "            for row in A:\n",
    "                norm = 0\n",
    "                for col in row:\n",
    "                    norm += math.sqrt(math.pow(col, 2))\n",
    "                norms.append(norm)\n",
    "вввв\n",
    "            i = 0\n",
    "            min_norm = norms[0]\n",
    "\n",
    "            for idx, norm in enumerate(norms[1:], start=1):\n",
    "                if norm < min_norm:\n",
    "                    min_norm = norm\n",
    "                    i = idx\n",
    "            \n",
    "            det = 0\n",
    "            for j in range(m):\n",
    "                M = [[col for cidx, col in enumerate(row) if cidx != j ] for ridx, row in enumerate(A) if ridx != i]\n",
    "                sign = (-1) ** ((i + 1 + j + 1) % 2)\n",
    "                det += sign * A[i][j] * matrix_determinant(M)\n",
    "                \n",
    "            return det\n",
    "        else:\n",
    "            return 'Determinant is not defined'\n",
    "    except Exception as e:\n",
    "        return e\n",
    "    \n",
    "\n",
    "A = np.array([[4, 2, 3], [0, 5, 1], [0, 0, 9]])\n",
    "\n",
    "print(f'A:\\n {A}\\n')\n",
    "print(f'Trial(det(A)): {matrix_determinant(A)}')\n",
    "print(f'Check(det(A)): {np.linalg.det(A)}')\n",
    "\n",
    "A = np.array([[1, 2, 3], [4, 5, 6], [7, 8, 9]])\n",
    "\n",
    "print(f'A:\\n {A}\\n')\n",
    "print(f'Trial(det(A)): {matrix_determinant(A)}')\n",
    "print(f'Check(det(A)): {np.linalg.det(A)}')\n",
    "\n",
    "A = np.array([[2, 5, 1, 3], [4, 1, 7, 9], [6, 8, 3, 2], [7, 8, 1, 4]])\n",
    "\n",
    "print(f'A:\\n {A}\\n')\n",
    "print(f'Trial(det(A)): {matrix_determinant(A)}')\n",
    "print(f'Check(det(A)): {np.linalg.det(A)}')\n",
    "\n"
   ]
  },
  {
   "cell_type": "code",
   "execution_count": 33,
   "metadata": {
    "ExecuteTime": {
     "end_time": "2019-09-15T11:02:55.388980Z",
     "start_time": "2019-09-15T11:02:55.380000Z"
    }
   },
   "outputs": [],
   "source": [
    "def matrix_determinant_2x2_3x3(A):\n",
    "    try:\n",
    "        if len(A) == len(A[0]):\n",
    "            if len(A) == 2:\n",
    "                det = A[0][0] * A[1][1] - A[0][1] * A[1][0]\n",
    "                return det\n",
    "            elif len(A) == 3:\n",
    "                det = (\n",
    "                    A[0][0] * A[1][1] * A[2][2] +\n",
    "                    A[0][1] * A[1][2] * A[2][0] +\n",
    "                    A[0][2] * A[1][0] * A[2][1] -\n",
    "                    A[0][2] * A[1][1] * A[2][0] -\n",
    "                    A[0][1] * A[1][0] * A[2][2] -\n",
    "                    A[0][0] * A[1][2] * A[2][1]\n",
    "                )\n",
    "                return det\n",
    "            else:\n",
    "                return 'Only 2x2 or 3x3 matricies'\n",
    "        else:\n",
    "            return 'Determinant is not defined'\n",
    "    except Exception as e:\n",
    "        return e\n",
    "    "
   ]
  },
  {
   "cell_type": "markdown",
   "metadata": {},
   "source": [
    "#### __1.__ Вычислить определитель:\n",
    "\n",
    "   a)\n",
    "\n",
    "$$\\begin{vmatrix}\n",
    "sinx & -cosx\\\\ \n",
    "cosx & sinx\n",
    "\\end{vmatrix};$$\n",
    "\n",
    "   б)\n",
    "    \n",
    "$$\\begin{vmatrix}\n",
    "4 & 2 & 3\\\\ \n",
    "0 & 5 & 1\\\\ \n",
    "0 & 0 & 9\n",
    "\\end{vmatrix};$$\n",
    "    \n",
    "   в)\n",
    "\n",
    "$$\\begin{vmatrix}\n",
    "1 & 2 & 3\\\\ \n",
    "4 & 5 & 6\\\\ \n",
    "7 & 8 & 9\n",
    "\\end{vmatrix}.$$"
   ]
  },
  {
   "cell_type": "code",
   "execution_count": 34,
   "metadata": {
    "ExecuteTime": {
     "end_time": "2019-09-15T11:02:55.406928Z",
     "start_time": "2019-09-15T11:02:55.390971Z"
    }
   },
   "outputs": [
    {
     "name": "stdout",
     "output_type": "stream",
     "text": [
      "A:\n",
      "[[ 0.70710678 -0.70710678]\n",
      " [ 0.70710678  0.70710678]]\n",
      "\n",
      "Trial(det(A)): 1.0000000000000002\n",
      "\n",
      "Check(det(A)): 1.0\n",
      "\n"
     ]
    }
   ],
   "source": [
    "# а)\n",
    "\n",
    "x = math.pi / 4\n",
    "\n",
    "A = np.array([[math.sin(x), -math.cos(x)], [math.cos(x), math.sin(x)]])\n",
    "\n",
    "print(f'A:\\n{A}\\n')\n",
    "\n",
    "print(f'Trial(det(A)): {matrix_determinant_2x2_3x3(A)}\\n')\n",
    "\n",
    "print(f'Check(det(A)): {np.linalg.det(A)}\\n')"
   ]
  },
  {
   "cell_type": "code",
   "execution_count": 35,
   "metadata": {
    "ExecuteTime": {
     "end_time": "2019-09-15T11:02:55.416901Z",
     "start_time": "2019-09-15T11:02:55.408923Z"
    }
   },
   "outputs": [
    {
     "name": "stdout",
     "output_type": "stream",
     "text": [
      "A:\n",
      "[[4 2 3]\n",
      " [0 5 1]\n",
      " [0 0 9]]\n",
      "\n",
      "Trial(det(A)): 180\n",
      "\n",
      "Check(det(A)): 180.0\n",
      "\n"
     ]
    }
   ],
   "source": [
    "# б)\n",
    "\n",
    "A = np.array([[4, 2, 3], [0, 5, 1], [0, 0, 9]])\n",
    "\n",
    "print(f'A:\\n{A}\\n')\n",
    "\n",
    "print(f'Trial(det(A)): {matrix_determinant_2x2_3x3(A)}\\n')\n",
    "\n",
    "print(f'Check(det(A)): {np.linalg.det(A)}\\n')"
   ]
  },
  {
   "cell_type": "code",
   "execution_count": 36,
   "metadata": {
    "ExecuteTime": {
     "end_time": "2019-09-15T11:02:55.429881Z",
     "start_time": "2019-09-15T11:02:55.418895Z"
    }
   },
   "outputs": [
    {
     "name": "stdout",
     "output_type": "stream",
     "text": [
      "A:\n",
      "[[1 2 3]\n",
      " [4 5 6]\n",
      " [7 8 9]]\n",
      "\n",
      "Trial(det(A)): 0\n",
      "\n",
      "Check(det(A)): -9.51619735392994e-16\n",
      "\n"
     ]
    }
   ],
   "source": [
    "# в)\n",
    "\n",
    "A = np.array([[1, 2, 3], [4, 5, 6], [7, 8, 9]])\n",
    "\n",
    "print(f'A:\\n{A}\\n')\n",
    "\n",
    "print(f'Trial(det(A)): {matrix_determinant_2x2_3x3(A)}\\n')\n",
    "\n",
    "print(f'Check(det(A)): {np.linalg.det(A)}\\n')"
   ]
  },
  {
   "cell_type": "markdown",
   "metadata": {},
   "source": [
    "#### __2.__ Определитель матрицы $A$ равен $4$. Найти:\n",
    "\n",
    "   а) $det(A^{2})$;\n",
    "    \n",
    "   б) $det(A^{T})$;\n",
    "    \n",
    "   в) $det(2A)$."
   ]
  },
  {
   "cell_type": "code",
   "execution_count": 37,
   "metadata": {
    "ExecuteTime": {
     "end_time": "2019-09-15T11:02:55.440837Z",
     "start_time": "2019-09-15T11:02:55.431861Z"
    }
   },
   "outputs": [
    {
     "name": "stdout",
     "output_type": "stream",
     "text": [
      "A:\n",
      "[[ 1 -2]\n",
      " [ 1  2]]\n",
      "\n",
      "det(A): 4.0\n",
      "\n"
     ]
    }
   ],
   "source": [
    "A = np.array([[1, -2], [1, 2]])\n",
    "\n",
    "print(f'A:\\n{A}\\n')\n",
    "print(f'det(A): {np.linalg.det(A)}\\n')"
   ]
  },
  {
   "cell_type": "markdown",
   "metadata": {},
   "source": [
    "а) $det(A^{2})$:\n",
    "\n",
    "$det(A) = 4$<br>\n",
    "\n",
    "$A^{2}$ = $A x A$<br>\n",
    "$det(A x B)$ = $det(A) * det(B)$<br>\n",
    "$det(A^{2})$ = $det(A x A)$ = $det(A) * det(A)$<br>\n",
    "$det(A^{2})$ = $4 * 4$ = $16$<br>"
   ]
  },
  {
   "cell_type": "code",
   "execution_count": 38,
   "metadata": {
    "ExecuteTime": {
     "end_time": "2019-09-15T11:02:55.452805Z",
     "start_time": "2019-09-15T11:02:55.442832Z"
    }
   },
   "outputs": [
    {
     "name": "stdout",
     "output_type": "stream",
     "text": [
      "A:\n",
      "[[ 1 -2]\n",
      " [ 1  2]]\n",
      "\n",
      "det(A): 4.0\n",
      "\n",
      "A^2:\n",
      "[[-1 -6]\n",
      " [ 3  2]]\n",
      "\n",
      "det(A^2): 16.000000000000007\n",
      "\n"
     ]
    }
   ],
   "source": [
    "print(f'A:\\n{A}\\n')\n",
    "print(f'det(A): {np.linalg.det(A)}\\n')\n",
    "print(f'A^2:\\n{np.dot(A, A)}\\n')\n",
    "print(f'det(A^2): {np.linalg.det(np.dot(A, A))}\\n')"
   ]
  },
  {
   "cell_type": "markdown",
   "metadata": {},
   "source": [
    "б) $det(A^{T})$:\n",
    "\n",
    "$det(A) = 4$<br>\n",
    "\n",
    "$det(A)$ = $det(A^{T})$<br>\n",
    "$det(A^{T})$ = $det(A)$ = $4$<br>"
   ]
  },
  {
   "cell_type": "code",
   "execution_count": 39,
   "metadata": {
    "ExecuteTime": {
     "end_time": "2019-09-15T11:02:55.465771Z",
     "start_time": "2019-09-15T11:02:55.456795Z"
    }
   },
   "outputs": [
    {
     "name": "stdout",
     "output_type": "stream",
     "text": [
      "A:\n",
      "[[ 1 -2]\n",
      " [ 1  2]]\n",
      "\n",
      "det(A): 4.0\n",
      "\n",
      "A:\n",
      "[[ 1  1]\n",
      " [-2  2]]\n",
      "\n",
      "det(A.T): 4.0\n",
      "\n"
     ]
    }
   ],
   "source": [
    "print(f'A:\\n{A}\\n')\n",
    "print(f'det(A): {np.linalg.det(A)}\\n')\n",
    "print(f'A:\\n{A.T}\\n')\n",
    "print(f'det(A.T): {np.linalg.det(A.T)}\\n')"
   ]
  },
  {
   "cell_type": "markdown",
   "metadata": {
    "ExecuteTime": {
     "end_time": "2019-09-14T07:56:47.058265Z",
     "start_time": "2019-09-14T07:56:47.049286Z"
    }
   },
   "source": [
    "в) $det(2A)$:\n",
    "\n",
    "$det(A) = 4$<br>\n",
    "\n",
    "$det(kA)$ = $k^{n}det(A)$, где n - кол-во строк (столбцов) квадратной матрицы A размера n x n<br>\n",
    "$det(2A)$ = $k^{n}det(A)$ = $2^{n} * 4$ = $2^{n+2}$<br>"
   ]
  },
  {
   "cell_type": "code",
   "execution_count": 40,
   "metadata": {
    "ExecuteTime": {
     "end_time": "2019-09-15T11:02:55.476751Z",
     "start_time": "2019-09-15T11:02:55.467765Z"
    }
   },
   "outputs": [
    {
     "name": "stdout",
     "output_type": "stream",
     "text": [
      "A:\n",
      "[[ 1 -2]\n",
      " [ 1  2]]\n",
      "\n",
      "det(A): 4.0\n",
      "\n",
      "2A:\n",
      "[[ 2 -4]\n",
      " [ 2  4]]\n",
      "\n",
      "det(2A): 16\n",
      "\n",
      "det(2A): 15.999999999999998\n",
      "\n"
     ]
    }
   ],
   "source": [
    "print(f'A:\\n{A}\\n')\n",
    "print(f'det(A): {np.linalg.det(A)}\\n')\n",
    "print(f'2A:\\n{np.dot(2, A)}\\n')\n",
    "print(f'det(2A): {2**(A.shape[0] + 2)}\\n')\n",
    "print(f'det(2A): {np.linalg.det(2 * A)}\\n')"
   ]
  },
  {
   "cell_type": "markdown",
   "metadata": {},
   "source": [
    "#### __3.__  Доказать, что матрица\n",
    "\n",
    "$$\\begin{pmatrix}\n",
    "-2 & 7 & -3\\\\ \n",
    "4 & -14 & 6\\\\ \n",
    "-3 & 7 & 13\n",
    "\\end{pmatrix}$$\n",
    "   \n",
    "вырожденная."
   ]
  },
  {
   "cell_type": "markdown",
   "metadata": {},
   "source": [
    "1) Если $det(A) = 0$, то матрица A вырождена.<br>\n",
    "2) Если, как минимум, две строки матрицы A линейно зависимы, то матрица A вырождена.<br>"
   ]
  },
  {
   "cell_type": "code",
   "execution_count": 41,
   "metadata": {
    "ExecuteTime": {
     "end_time": "2019-09-15T11:02:55.487712Z",
     "start_time": "2019-09-15T11:02:55.478736Z"
    }
   },
   "outputs": [
    {
     "name": "stdout",
     "output_type": "stream",
     "text": [
      "A:\n",
      "[[ -2   7  -3]\n",
      " [  4 -14   6]\n",
      " [ -3   7  13]]\n",
      "\n"
     ]
    }
   ],
   "source": [
    "A = np.array([[-2, 7, -3], [4, -14, 6], [-3, 7, 13]])\n",
    "\n",
    "print(f'A:\\n{A}\\n')"
   ]
  },
  {
   "cell_type": "code",
   "execution_count": 42,
   "metadata": {
    "ExecuteTime": {
     "end_time": "2019-09-15T11:02:55.499680Z",
     "start_time": "2019-09-15T11:02:55.489707Z"
    }
   },
   "outputs": [
    {
     "name": "stdout",
     "output_type": "stream",
     "text": [
      "A:\n",
      "[[ -2   7  -3]\n",
      " [  4 -14   6]\n",
      " [ -3   7  13]]\n",
      "\n",
      "det(A): 0.0\n",
      "\n"
     ]
    }
   ],
   "source": [
    "# 1)\n",
    "\n",
    "print(f'A:\\n{A}\\n')\n",
    "print(f'det(A): {np.linalg.det( A)}\\n')"
   ]
  },
  {
   "cell_type": "code",
   "execution_count": 43,
   "metadata": {
    "ExecuteTime": {
     "end_time": "2019-09-15T11:02:55.514640Z",
     "start_time": "2019-09-15T11:02:55.501675Z"
    }
   },
   "outputs": [
    {
     "name": "stdout",
     "output_type": "stream",
     "text": [
      "A:\n",
      "[[ -2   7  -3]\n",
      " [  4 -14   6]\n",
      " [ -3   7  13]]\n",
      "\n",
      "Умножим первую строку матрицы A на -2:\n",
      "-2[-2  7 -3] = [  4 -14   6]\n",
      "\n",
      "В результате умножения получаем вторую строку матрицы A:\n",
      "[  4 -14   6] = [  4 -14   6]\n",
      "Вторая строка матрицы A является линейной комбинацией первой строки матрицы A.\n",
      "Первая и вторая строки матрицы A линейнозависимы.\n"
     ]
    }
   ],
   "source": [
    "# 2)\n",
    "\n",
    "print(f'A:\\n{A}\\n')\n",
    "print(f'Умножим первую строку матрицы A на -2:')\n",
    "print(f'-2{A[0]} = {A[1]}\\n')\n",
    "print(f'В результате умножения получаем вторую строку матрицы A:')\n",
    "print(f'{-2 * A[0]} = {A[1]}')\n",
    "print(f'Вторая строка матрицы A является линейной комбинацией первой строки матрицы A.')\n",
    "print(f'Первая и вторая строки матрицы A линейнозависимы.')"
   ]
  },
  {
   "cell_type": "markdown",
   "metadata": {},
   "source": [
    "#### __4.__ Найти ранг матрицы:\n",
    "\n",
    "   а) $\\begin{pmatrix}\n",
    "1 & 2 & 3\\\\ \n",
    "1 & 1 & 1\\\\ \n",
    "2 & 3 & 4\n",
    "\\end{pmatrix};$\n",
    "\n",
    "   б) $\\begin{pmatrix}\n",
    "0 & 0 & 2 & 1\\\\ \n",
    "0 & 0 & 2 & 2\\\\ \n",
    "0 & 0 & 4 & 3\\\\ \n",
    "2 & 3 & 5 & 6\n",
    "\\end{pmatrix}.$"
   ]
  },
  {
   "cell_type": "markdown",
   "metadata": {},
   "source": [
    "__Определение__\n",
    "\n",
    "_Строчным рангом матрицы_ называется максимальное число линейно независимых строк этой матрицы.\n",
    "\n",
    "_Столбцовым рангом матрицы_ называется максимальное число линейно независимых столбцов этой матрицы.\n",
    "\n",
    "__Теорема__\n",
    "\n",
    "_Строчный ранг матрицы всегда совпадает с столбцовым и равен максимальному размеру ее невырожденного минора._"
   ]
  },
  {
   "cell_type": "code",
   "execution_count": 44,
   "metadata": {
    "ExecuteTime": {
     "end_time": "2019-09-15T11:02:55.525611Z",
     "start_time": "2019-09-15T11:02:55.516634Z"
    }
   },
   "outputs": [
    {
     "name": "stdout",
     "output_type": "stream",
     "text": [
      "A:\n",
      "[[1 2 3]\n",
      " [1 1 1]\n",
      " [2 3 4]]\n",
      "\n"
     ]
    }
   ],
   "source": [
    "# а)\n",
    "\n",
    "A = np.array([[1, 2, 3], [1, 1, 1], [2, 3, 4]])\n",
    "\n",
    "print(f'A:\\n{A}\\n')"
   ]
  },
  {
   "cell_type": "code",
   "execution_count": 45,
   "metadata": {
    "ExecuteTime": {
     "end_time": "2019-09-15T11:02:55.540571Z",
     "start_time": "2019-09-15T11:02:55.527605Z"
    }
   },
   "outputs": [
    {
     "name": "stdout",
     "output_type": "stream",
     "text": [
      "A:\n",
      "[[1 2 3]\n",
      " [1 1 1]\n",
      " [2 3 4]]\n",
      "\n",
      "Сложим первую и вторую строки матрицы A:\n",
      "[1 2 3] + [1 1 1] = [2 3 4]\n",
      "\n",
      "В результате сложения получаем третью строку матрицы A:\n",
      "[2 3 4]\n",
      "\n",
      "Третья строка матрицы A является линейной комбинацией первой и второй строк матрицы A.\n",
      "rank(A): 2\n",
      "\n"
     ]
    }
   ],
   "source": [
    "print(f'A:\\n{A}\\n')\n",
    "print(f'Сложим первую и вторую строки матрицы A:')\n",
    "print(f'{A[0]} + {A[1]} = {A[0] + A[1]}\\n')\n",
    "print(f'В результате сложения получаем третью строку матрицы A:')\n",
    "print(f'{A[2]}\\n')\n",
    "print(f'Третья строка матрицы A является линейной комбинацией первой и второй строк матрицы A.')\n",
    "print(f'rank(A): 2\\n')"
   ]
  },
  {
   "cell_type": "code",
   "execution_count": 46,
   "metadata": {
    "ExecuteTime": {
     "end_time": "2019-09-15T11:02:55.553536Z",
     "start_time": "2019-09-15T11:02:55.542565Z"
    }
   },
   "outputs": [
    {
     "name": "stdout",
     "output_type": "stream",
     "text": [
      "A:\n",
      "[[1 2 3]\n",
      " [1 1 1]\n",
      " [2 3 4]]\n",
      "\n",
      "rank(A): 2\n",
      "\n"
     ]
    }
   ],
   "source": [
    "print(f'A:\\n{A}\\n')\n",
    "print(f'rank(A): {np.linalg.matrix_rank(A)}\\n')"
   ]
  },
  {
   "cell_type": "code",
   "execution_count": 47,
   "metadata": {
    "ExecuteTime": {
     "end_time": "2019-09-15T11:02:55.564506Z",
     "start_time": "2019-09-15T11:02:55.555531Z"
    }
   },
   "outputs": [
    {
     "name": "stdout",
     "output_type": "stream",
     "text": [
      "A:\n",
      "[[0 0 2 1]\n",
      " [0 0 2 2]\n",
      " [0 0 4 3]\n",
      " [2 3 5 6]]\n",
      "\n"
     ]
    }
   ],
   "source": [
    "# б)\n",
    "\n",
    "A = np.array([[0, 0, 2, 1], [0, 0, 2, 2], [0, 0, 4, 3], [2, 3, 5, 6]])\n",
    "\n",
    "print(f'A:\\n{A}\\n')"
   ]
  },
  {
   "cell_type": "code",
   "execution_count": 48,
   "metadata": {
    "ExecuteTime": {
     "end_time": "2019-09-15T11:02:55.578469Z",
     "start_time": "2019-09-15T11:02:55.566503Z"
    }
   },
   "outputs": [
    {
     "name": "stdout",
     "output_type": "stream",
     "text": [
      "A:\n",
      "[[0 0 2 1]\n",
      " [0 0 2 2]\n",
      " [0 0 4 3]\n",
      " [2 3 5 6]]\n",
      "\n",
      "Вычтем из третьей строки вторую строку A:\n",
      "[0 0 4 3] - [0 0 2 2] = [0 0 2 1]\n",
      "\n",
      "В результате вычитания получаем первую строку матрицы A:\n",
      "[0 0 2 1]\n",
      "\n",
      "Первая строка матрицы A является линейной комбинацией втрой и третьей строк матрицы A.\n",
      "rank(A): 3\n",
      "\n"
     ]
    }
   ],
   "source": [
    "print(f'A:\\n{A}\\n')\n",
    "print(f'Вычтем из третьей строки вторую строку A:')\n",
    "print(f'{A[2]} - {A[1]} = {A[2] - A[1]}\\n')\n",
    "print(f'В результате вычитания получаем первую строку матрицы A:')\n",
    "print(f'{A[0]}\\n')\n",
    "print(f'Первая строка матрицы A является линейной комбинацией втрой и третьей строк матрицы A.')\n",
    "print(f'rank(A): 3\\n')"
   ]
  },
  {
   "cell_type": "code",
   "execution_count": 49,
   "metadata": {
    "ExecuteTime": {
     "end_time": "2019-09-15T11:02:55.589440Z",
     "start_time": "2019-09-15T11:02:55.580464Z"
    }
   },
   "outputs": [
    {
     "name": "stdout",
     "output_type": "stream",
     "text": [
      "A:\n",
      "[[0 0 2 1]\n",
      " [0 0 2 2]\n",
      " [0 0 4 3]\n",
      " [2 3 5 6]]\n",
      "\n",
      "rank(A): 3\n",
      "\n"
     ]
    }
   ],
   "source": [
    "print(f'A:\\n{A}\\n')\n",
    "print(f'rank(A): {np.linalg.matrix_rank(A)}\\n')"
   ]
  },
  {
   "cell_type": "markdown",
   "metadata": {},
   "source": [
    "#### __5*.__ Написать на Python функцию для нахождения определителя матрицы размера n x n, не используя NumPy."
   ]
  },
  {
   "cell_type": "code",
   "execution_count": 50,
   "metadata": {
    "ExecuteTime": {
     "end_time": "2019-09-15T11:02:55.602405Z",
     "start_time": "2019-09-15T11:02:55.591435Z"
    }
   },
   "outputs": [],
   "source": [
    "def matrix_determinant(A):\n",
    "    try:\n",
    "        n = len(A)\n",
    "        m = len(A[0])\n",
    "\n",
    "        if n == m:            \n",
    "            if n == 2:\n",
    "                det = A[0][0] * A[1][1] - A[0][1] * A[1][0]\n",
    "                return det\n",
    "\n",
    "            norms = []\n",
    "\n",
    "            for row in A:\n",
    "                norm = 0\n",
    "                for col in row:\n",
    "                    norm += math.sqrt(math.pow(col, 2))\n",
    "                norms.append(norm)\n",
    "\n",
    "            i = 0\n",
    "            min_norm = norms[0]\n",
    "\n",
    "            for idx, norm in enumerate(norms[1:], start=1):\n",
    "                if norm < min_norm:\n",
    "                    min_norm = norm\n",
    "                    i = idx\n",
    "            \n",
    "            det = 0\n",
    "            for j in range(m):\n",
    "                M = [[col for cidx, col in enumerate(row) if cidx != j ] for ridx, row in enumerate(A) if ridx != i]\n",
    "                sign = (-1) ** ((i + 1 + j + 1) % 2)\n",
    "                det += sign * A[i][j] * matrix_determinant(M)\n",
    "                \n",
    "            return det\n",
    "        else:\n",
    "            return 'Determinant is not defined'\n",
    "    except Exception as e:\n",
    "        return e\n",
    "    "
   ]
  },
  {
   "cell_type": "code",
   "execution_count": 51,
   "metadata": {
    "ExecuteTime": {
     "end_time": "2019-09-15T11:02:55.616368Z",
     "start_time": "2019-09-15T11:02:55.604400Z"
    }
   },
   "outputs": [
    {
     "name": "stdout",
     "output_type": "stream",
     "text": [
      "A:\n",
      " [[4 2 3]\n",
      " [0 5 1]\n",
      " [0 0 9]]\n",
      "\n",
      "Trial(det(A)): 180\n",
      "Check(det(A)): 180.0\n"
     ]
    }
   ],
   "source": [
    "A = np.array([[4, 2, 3], [0, 5, 1], [0, 0, 9]])\n",
    "\n",
    "print(f'A:\\n {A}\\n')\n",
    "print(f'Trial(det(A)): {matrix_determinant(A)}')\n",
    "print(f'Check(det(A)): {np.linalg.det(A)}')"
   ]
  },
  {
   "cell_type": "code",
   "execution_count": 52,
   "metadata": {
    "ExecuteTime": {
     "end_time": "2019-09-15T11:02:55.626354Z",
     "start_time": "2019-09-15T11:02:55.618363Z"
    }
   },
   "outputs": [
    {
     "name": "stdout",
     "output_type": "stream",
     "text": [
      "A:\n",
      " [[1 2 3]\n",
      " [4 5 6]\n",
      " [7 8 9]]\n",
      "\n",
      "Trial(det(A)): 0\n",
      "Check(det(A)): -9.51619735392994e-16\n"
     ]
    }
   ],
   "source": [
    "A = np.array([[1, 2, 3], [4, 5, 6], [7, 8, 9]])\n",
    "\n",
    "print(f'A:\\n {A}\\n')\n",
    "print(f'Trial(det(A)): {matrix_determinant(A)}')\n",
    "print(f'Check(det(A)): {np.linalg.det(A)}')"
   ]
  },
  {
   "cell_type": "code",
   "execution_count": 53,
   "metadata": {
    "ExecuteTime": {
     "end_time": "2019-09-15T11:02:55.640304Z",
     "start_time": "2019-09-15T11:02:55.628335Z"
    },
    "scrolled": true
   },
   "outputs": [
    {
     "name": "stdout",
     "output_type": "stream",
     "text": [
      "A:\n",
      " [[2 5 1 3]\n",
      " [4 1 7 9]\n",
      " [6 8 3 2]\n",
      " [7 8 1 4]]\n",
      "\n",
      "Trial(det(A)): 630\n",
      "Check(det(A)): 630.0000000000001\n"
     ]
    }
   ],
   "source": [
    "A = np.array([[2, 5, 1, 3], [4, 1, 7, 9], [6, 8, 3, 2], [7, 8, 1, 4]])\n",
    "\n",
    "print(f'A:\\n {A}\\n')\n",
    "print(f'Trial(det(A)): {matrix_determinant(A)}')\n",
    "print(f'Check(det(A)): {np.linalg.det(A)}')"
   ]
  },
  {
   "cell_type": "markdown",
   "metadata": {},
   "source": [
    "## Матрицы и матричные операции. Часть 2"
   ]
  },
  {
   "cell_type": "code",
   "execution_count": 56,
   "metadata": {
    "ExecuteTime": {
     "end_time": "2019-09-15T11:02:55.388980Z",
     "start_time": "2019-09-15T11:02:55.380000Z"
    }
   },
   "outputs": [],
   "source": [
    "def matrix_determinant_2x2_3x3(A):\n",
    "    try:\n",
    "        if len(A) == len(A[0]):\n",
    "            if len(A) == 2:\n",
    "                det = A[0][0] * A[1][1] - A[0][1] * A[1][0]\n",
    "                return det\n",
    "            elif len(A) == 3:\n",
    "                det = (\n",
    "                    A[0][0] * A[1][1] * A[2][2] +\n",
    "                    A[0][1] * A[1][2] * A[2][0] +\n",
    "                    A[0][2] * A[1][0] * A[2][1] -\n",
    "                    A[0][2] * A[1][1] * A[2][0] -\n",
    "                    A[0][1] * A[1][0] * A[2][2] -\n",
    "                    A[0][0] * A[1][2] * A[2][1]\n",
    "                )\n",
    "                return det\n",
    "            else:\n",
    "                return 'Only 2x2 or 3x3 matricies'\n",
    "        else:\n",
    "            return 'Determinant is not defined'\n",
    "    except Exception as e:\n",
    "        return e\n",
    "    "
   ]
  },
  {
   "cell_type": "markdown",
   "metadata": {},
   "source": [
    "#### __1.__ Вычислить определитель:\n",
    "\n",
    "   a)\n",
    "\n",
    "$$\\begin{vmatrix}\n",
    "sinx & -cosx\\\\ \n",
    "cosx & sinx\n",
    "\\end{vmatrix};$$\n",
    "\n",
    "   б)\n",
    "    \n",
    "$$\\begin{vmatrix}\n",
    "4 & 2 & 3\\\\ \n",
    "0 & 5 & 1\\\\ \n",
    "0 & 0 & 9\n",
    "\\end{vmatrix};$$\n",
    "    \n",
    "   в)\n",
    "\n",
    "$$\\begin{vmatrix}\n",
    "1 & 2 & 3\\\\ \n",
    "4 & 5 & 6\\\\ \n",
    "7 & 8 & 9\n",
    "\\end{vmatrix}.$$"
   ]
  },
  {
   "cell_type": "code",
   "execution_count": 57,
   "metadata": {
    "ExecuteTime": {
     "end_time": "2019-09-15T11:02:55.406928Z",
     "start_time": "2019-09-15T11:02:55.390971Z"
    }
   },
   "outputs": [
    {
     "name": "stdout",
     "output_type": "stream",
     "text": [
      "A:\n",
      "[[ 0.70710678 -0.70710678]\n",
      " [ 0.70710678  0.70710678]]\n",
      "\n",
      "Trial(det(A)): 1.0000000000000002\n",
      "\n",
      "Check(det(A)): 1.0\n",
      "\n"
     ]
    }
   ],
   "source": [
    "# а)\n",
    "\n",
    "x = math.pi / 4\n",
    "\n",
    "A = np.array([[math.sin(x), -math.cos(x)], [math.cos(x), math.sin(x)]])\n",
    "\n",
    "print(f'A:\\n{A}\\n')\n",
    "\n",
    "print(f'Trial(det(A)): {matrix_determinant_2x2_3x3(A)}\\n')\n",
    "\n",
    "print(f'Check(det(A)): {np.linalg.det(A)}\\n')"
   ]
  },
  {
   "cell_type": "code",
   "execution_count": 58,
   "metadata": {
    "ExecuteTime": {
     "end_time": "2019-09-15T11:02:55.416901Z",
     "start_time": "2019-09-15T11:02:55.408923Z"
    }
   },
   "outputs": [
    {
     "name": "stdout",
     "output_type": "stream",
     "text": [
      "A:\n",
      "[[4 2 3]\n",
      " [0 5 1]\n",
      " [0 0 9]]\n",
      "\n",
      "Trial(det(A)): 180\n",
      "\n",
      "Check(det(A)): 180.0\n",
      "\n"
     ]
    }
   ],
   "source": [
    "# б)\n",
    "\n",
    "A = np.array([[4, 2, 3], [0, 5, 1], [0, 0, 9]])\n",
    "\n",
    "print(f'A:\\n{A}\\n')\n",
    "\n",
    "print(f'Trial(det(A)): {matrix_determinant_2x2_3x3(A)}\\n')\n",
    "\n",
    "print(f'Check(det(A)): {np.linalg.det(A)}\\n')"
   ]
  },
  {
   "cell_type": "code",
   "execution_count": 59,
   "metadata": {
    "ExecuteTime": {
     "end_time": "2019-09-15T11:02:55.429881Z",
     "start_time": "2019-09-15T11:02:55.418895Z"
    }
   },
   "outputs": [
    {
     "name": "stdout",
     "output_type": "stream",
     "text": [
      "A:\n",
      "[[1 2 3]\n",
      " [4 5 6]\n",
      " [7 8 9]]\n",
      "\n",
      "Trial(det(A)): 0\n",
      "\n",
      "Check(det(A)): -9.51619735392994e-16\n",
      "\n"
     ]
    }
   ],
   "source": [
    "# в)\n",
    "\n",
    "A = np.array([[1, 2, 3], [4, 5, 6], [7, 8, 9]])\n",
    "\n",
    "print(f'A:\\n{A}\\n')\n",
    "\n",
    "print(f'Trial(det(A)): {matrix_determinant_2x2_3x3(A)}\\n')\n",
    "\n",
    "print(f'Check(det(A)): {np.linalg.det(A)}\\n')"
   ]
  },
  {
   "cell_type": "markdown",
   "metadata": {},
   "source": [
    "#### __2.__ Определитель матрицы $A$ равен $4$. Найти:\n",
    "\n",
    "   а) $det(A^{2})$;\n",
    "    \n",
    "   б) $det(A^{T})$;\n",
    "    \n",
    "   в) $det(2A)$."
   ]
  },
  {
   "cell_type": "code",
   "execution_count": 60,
   "metadata": {
    "ExecuteTime": {
     "end_time": "2019-09-15T11:02:55.440837Z",
     "start_time": "2019-09-15T11:02:55.431861Z"
    }
   },
   "outputs": [
    {
     "name": "stdout",
     "output_type": "stream",
     "text": [
      "A:\n",
      "[[ 1 -2]\n",
      " [ 1  2]]\n",
      "\n",
      "det(A): 4.0\n",
      "\n"
     ]
    }
   ],
   "source": [
    "A = np.array([[1, -2], [1, 2]])\n",
    "\n",
    "print(f'A:\\n{A}\\n')\n",
    "print(f'det(A): {np.linalg.det(A)}\\n')"
   ]
  },
  {
   "cell_type": "markdown",
   "metadata": {},
   "source": [
    "а) $det(A^{2})$:\n",
    "\n",
    "$det(A) = 4$<br>\n",
    "\n",
    "$A^{2}$ = $A x A$<br>\n",
    "$det(A x B)$ = $det(A) * det(B)$<br>\n",
    "$det(A^{2})$ = $det(A x A)$ = $det(A) * det(A)$<br>\n",
    "$det(A^{2})$ = $4 * 4$ = $16$<br>"
   ]
  },
  {
   "cell_type": "code",
   "execution_count": 61,
   "metadata": {
    "ExecuteTime": {
     "end_time": "2019-09-15T11:02:55.452805Z",
     "start_time": "2019-09-15T11:02:55.442832Z"
    }
   },
   "outputs": [
    {
     "name": "stdout",
     "output_type": "stream",
     "text": [
      "A:\n",
      "[[ 1 -2]\n",
      " [ 1  2]]\n",
      "\n",
      "det(A): 4.0\n",
      "\n",
      "A^2:\n",
      "[[-1 -6]\n",
      " [ 3  2]]\n",
      "\n",
      "det(A^2): 16.000000000000007\n",
      "\n"
     ]
    }
   ],
   "source": [
    "print(f'A:\\n{A}\\n')\n",
    "print(f'det(A): {np.linalg.det(A)}\\n')\n",
    "print(f'A^2:\\n{np.dot(A, A)}\\n')\n",
    "print(f'det(A^2): {np.linalg.det(np.dot(A, A))}\\n')"
   ]
  },
  {
   "cell_type": "markdown",
   "metadata": {},
   "source": [
    "б) $det(A^{T})$:\n",
    "\n",
    "$det(A) = 4$<br>\n",
    "\n",
    "$det(A)$ = $det(A^{T})$<br>\n",
    "$det(A^{T})$ = $det(A)$ = $4$<br>"
   ]
  },
  {
   "cell_type": "code",
   "execution_count": 62,
   "metadata": {
    "ExecuteTime": {
     "end_time": "2019-09-15T11:02:55.465771Z",
     "start_time": "2019-09-15T11:02:55.456795Z"
    }
   },
   "outputs": [
    {
     "name": "stdout",
     "output_type": "stream",
     "text": [
      "A:\n",
      "[[ 1 -2]\n",
      " [ 1  2]]\n",
      "\n",
      "det(A): 4.0\n",
      "\n",
      "A:\n",
      "[[ 1  1]\n",
      " [-2  2]]\n",
      "\n",
      "det(A.T): 4.0\n",
      "\n"
     ]
    }
   ],
   "source": [
    "print(f'A:\\n{A}\\n')\n",
    "print(f'det(A): {np.linalg.det(A)}\\n')\n",
    "print(f'A:\\n{A.T}\\n')\n",
    "print(f'det(A.T): {np.linalg.det(A.T)}\\n')"
   ]
  },
  {
   "cell_type": "markdown",
   "metadata": {
    "ExecuteTime": {
     "end_time": "2019-09-14T07:56:47.058265Z",
     "start_time": "2019-09-14T07:56:47.049286Z"
    }
   },
   "source": [
    "в) $det(2A)$:\n",
    "\n",
    "$det(A) = 4$<br>\n",
    "\n",
    "$det(kA)$ = $k^{n}det(A)$, где n - кол-во строк (столбцов) квадратной матрицы A размера n x n<br>\n",
    "$det(2A)$ = $k^{n}det(A)$ = $2^{n} * 4$ = $2^{n+2}$<br>"
   ]
  },
  {
   "cell_type": "code",
   "execution_count": 63,
   "metadata": {
    "ExecuteTime": {
     "end_time": "2019-09-15T11:02:55.476751Z",
     "start_time": "2019-09-15T11:02:55.467765Z"
    }
   },
   "outputs": [
    {
     "name": "stdout",
     "output_type": "stream",
     "text": [
      "A:\n",
      "[[ 1 -2]\n",
      " [ 1  2]]\n",
      "\n",
      "det(A): 4.0\n",
      "\n",
      "2A:\n",
      "[[ 2 -4]\n",
      " [ 2  4]]\n",
      "\n",
      "det(2A): 16\n",
      "\n",
      "det(2A): 15.999999999999998\n",
      "\n"
     ]
    }
   ],
   "source": [
    "print(f'A:\\n{A}\\n')\n",
    "print(f'det(A): {np.linalg.det(A)}\\n')\n",
    "print(f'2A:\\n{np.dot(2, A)}\\n')\n",
    "print(f'det(2A): {2**(A.shape[0] + 2)}\\n')\n",
    "print(f'det(2A): {np.linalg.det(2 * A)}\\n')"
   ]
  },
  {
   "cell_type": "markdown",
   "metadata": {},
   "source": [
    "#### __3.__  Доказать, что матрица\n",
    "\n",
    "$$\\begin{pmatrix}\n",
    "-2 & 7 & -3\\\\ \n",
    "4 & -14 & 6\\\\ \n",
    "-3 & 7 & 13\n",
    "\\end{pmatrix}$$\n",
    "   \n",
    "вырожденная."
   ]
  },
  {
   "cell_type": "markdown",
   "metadata": {},
   "source": [
    "1) Если $det(A) = 0$, то матрица A вырождена.<br>\n",
    "2) Если, как минимум, две строки матрицы A линейно зависимы, то матрица A вырождена.<br>"
   ]
  },
  {
   "cell_type": "code",
   "execution_count": 64,
   "metadata": {
    "ExecuteTime": {
     "end_time": "2019-09-15T11:02:55.487712Z",
     "start_time": "2019-09-15T11:02:55.478736Z"
    }
   },
   "outputs": [
    {
     "name": "stdout",
     "output_type": "stream",
     "text": [
      "A:\n",
      "[[ -2   7  -3]\n",
      " [  4 -14   6]\n",
      " [ -3   7  13]]\n",
      "\n"
     ]
    }
   ],
   "source": [
    "A = np.array([[-2, 7, -3], [4, -14, 6], [-3, 7, 13]])\n",
    "\n",
    "print(f'A:\\n{A}\\n')"
   ]
  },
  {
   "cell_type": "code",
   "execution_count": 11,
   "metadata": {
    "ExecuteTime": {
     "end_time": "2019-09-15T11:02:55.499680Z",
     "start_time": "2019-09-15T11:02:55.489707Z"
    }
   },
   "outputs": [
    {
     "name": "stdout",
     "output_type": "stream",
     "text": [
      "A:\n",
      "[[ -2   7  -3]\n",
      " [  4 -14   6]\n",
      " [ -3   7  13]]\n",
      "\n",
      "det(A): 0.0\n",
      "\n"
     ]
    }
   ],
   "source": [
    "# 1)\n",
    "\n",
    "print(f'A:\\n{A}\\n')\n",
    "print(f'det(A): {np.linalg.det( A)}\\n')"
   ]
  },
  {
   "cell_type": "code",
   "execution_count": 12,
   "metadata": {
    "ExecuteTime": {
     "end_time": "2019-09-15T11:02:55.514640Z",
     "start_time": "2019-09-15T11:02:55.501675Z"
    }
   },
   "outputs": [
    {
     "name": "stdout",
     "output_type": "stream",
     "text": [
      "A:\n",
      "[[ -2   7  -3]\n",
      " [  4 -14   6]\n",
      " [ -3   7  13]]\n",
      "\n",
      "Умножим первую строку матрицы A на -2:\n",
      "-2[-2  7 -3] = [  4 -14   6]\n",
      "\n",
      "В результате умножения получаем вторую строку матрицы A:\n",
      "[  4 -14   6] = [  4 -14   6]\n",
      "Вторая строка матрицы A является линейной комбинацией первой строки матрицы A.\n",
      "Первая и вторая строки матрицы A линейнозависимы.\n"
     ]
    }
   ],
   "source": [
    "# 2)\n",
    "\n",
    "print(f'A:\\n{A}\\n')\n",
    "print(f'Умножим первую строку матрицы A на -2:')\n",
    "print(f'-2{A[0]} = {A[1]}\\n')\n",
    "print(f'В результате умножения получаем вторую строку матрицы A:')\n",
    "print(f'{-2 * A[0]} = {A[1]}')\n",
    "print(f'Вторая строка матрицы A является линейной комбинацией первой строки матрицы A.')\n",
    "print(f'Первая и вторая строки матрицы A линейнозависимы.')"
   ]
  },
  {
   "cell_type": "markdown",
   "metadata": {},
   "source": [
    "#### __4.__ Найти ранг матрицы:\n",
    "\n",
    "   а) $\\begin{pmatrix}\n",
    "1 & 2 & 3\\\\ \n",
    "1 & 1 & 1\\\\ \n",
    "2 & 3 & 4\n",
    "\\end{pmatrix};$\n",
    "\n",
    "   б) $\\begin{pmatrix}\n",
    "0 & 0 & 2 & 1\\\\ \n",
    "0 & 0 & 2 & 2\\\\ \n",
    "0 & 0 & 4 & 3\\\\ \n",
    "2 & 3 & 5 & 6\n",
    "\\end{pmatrix}.$"
   ]
  },
  {
   "cell_type": "markdown",
   "metadata": {},
   "source": [
    "__Определение__\n",
    "\n",
    "_Строчным рангом матрицы_ называется максимальное число линейно независимых строк этой матрицы.\n",
    "\n",
    "_Столбцовым рангом матрицы_ называется максимальное число линейно независимых столбцов этой матрицы.\n",
    "\n",
    "__Теорема__\n",
    "\n",
    "_Строчный ранг матрицы всегда совпадает с столбцовым и равен максимальному размеру ее невырожденного минора._"
   ]
  },
  {
   "cell_type": "code",
   "execution_count": 13,
   "metadata": {
    "ExecuteTime": {
     "end_time": "2019-09-15T11:02:55.525611Z",
     "start_time": "2019-09-15T11:02:55.516634Z"
    }
   },
   "outputs": [
    {
     "name": "stdout",
     "output_type": "stream",
     "text": [
      "A:\n",
      "[[1 2 3]\n",
      " [1 1 1]\n",
      " [2 3 4]]\n",
      "\n"
     ]
    }
   ],
   "source": [
    "# а)\n",
    "\n",
    "A = np.array([[1, 2, 3], [1, 1, 1], [2, 3, 4]])\n",
    "\n",
    "print(f'A:\\n{A}\\n')"
   ]
  },
  {
   "cell_type": "code",
   "execution_count": 14,
   "metadata": {
    "ExecuteTime": {
     "end_time": "2019-09-15T11:02:55.540571Z",
     "start_time": "2019-09-15T11:02:55.527605Z"
    }
   },
   "outputs": [
    {
     "name": "stdout",
     "output_type": "stream",
     "text": [
      "A:\n",
      "[[1 2 3]\n",
      " [1 1 1]\n",
      " [2 3 4]]\n",
      "\n",
      "Сложим первую и вторую строки матрицы A:\n",
      "[1 2 3] + [1 1 1] = [2 3 4]\n",
      "\n",
      "В результате сложения получаем третью строку матрицы A:\n",
      "[2 3 4]\n",
      "\n",
      "Третья строка матрицы A является линейной комбинацией первой и второй строк матрицы A.\n",
      "rank(A): 2\n",
      "\n"
     ]
    }
   ],
   "source": [
    "print(f'A:\\n{A}\\n')\n",
    "print(f'Сложим первую и вторую строки матрицы A:')\n",
    "print(f'{A[0]} + {A[1]} = {A[0] + A[1]}\\n')\n",
    "print(f'В результате сложения получаем третью строку матрицы A:')\n",
    "print(f'{A[2]}\\n')\n",
    "print(f'Третья строка матрицы A является линейной комбинацией первой и второй строк матрицы A.')\n",
    "print(f'rank(A): 2\\n')"
   ]
  },
  {
   "cell_type": "code",
   "execution_count": 15,
   "metadata": {
    "ExecuteTime": {
     "end_time": "2019-09-15T11:02:55.553536Z",
     "start_time": "2019-09-15T11:02:55.542565Z"
    }
   },
   "outputs": [
    {
     "name": "stdout",
     "output_type": "stream",
     "text": [
      "A:\n",
      "[[1 2 3]\n",
      " [1 1 1]\n",
      " [2 3 4]]\n",
      "\n",
      "rank(A): 2\n",
      "\n"
     ]
    }
   ],
   "source": [
    "print(f'A:\\n{A}\\n')\n",
    "print(f'rank(A): {np.linalg.matrix_rank(A)}\\n')"
   ]
  },
  {
   "cell_type": "code",
   "execution_count": 16,
   "metadata": {
    "ExecuteTime": {
     "end_time": "2019-09-15T11:02:55.564506Z",
     "start_time": "2019-09-15T11:02:55.555531Z"
    }
   },
   "outputs": [
    {
     "name": "stdout",
     "output_type": "stream",
     "text": [
      "A:\n",
      "[[0 0 2 1]\n",
      " [0 0 2 2]\n",
      " [0 0 4 3]\n",
      " [2 3 5 6]]\n",
      "\n"
     ]
    }
   ],
   "source": [
    "# б)\n",
    "\n",
    "A = np.array([[0, 0, 2, 1], [0, 0, 2, 2], [0, 0, 4, 3], [2, 3, 5, 6]])\n",
    "\n",
    "print(f'A:\\n{A}\\n')"
   ]
  },
  {
   "cell_type": "code",
   "execution_count": 17,
   "metadata": {
    "ExecuteTime": {
     "end_time": "2019-09-15T11:02:55.578469Z",
     "start_time": "2019-09-15T11:02:55.566503Z"
    }
   },
   "outputs": [
    {
     "name": "stdout",
     "output_type": "stream",
     "text": [
      "A:\n",
      "[[0 0 2 1]\n",
      " [0 0 2 2]\n",
      " [0 0 4 3]\n",
      " [2 3 5 6]]\n",
      "\n",
      "Вычтем из третьей строки вторую строку A:\n",
      "[0 0 4 3] - [0 0 2 2] = [0 0 2 1]\n",
      "\n",
      "В результате вычитания получаем первую строку матрицы A:\n",
      "[0 0 2 1]\n",
      "\n",
      "Первая строка матрицы A является линейной комбинацией втрой и третьей строк матрицы A.\n",
      "rank(A): 3\n",
      "\n"
     ]
    }
   ],
   "source": [
    "print(f'A:\\n{A}\\n')\n",
    "print(f'Вычтем из третьей строки вторую строку A:')\n",
    "print(f'{A[2]} - {A[1]} = {A[2] - A[1]}\\n')\n",
    "print(f'В результате вычитания получаем первую строку матрицы A:')\n",
    "print(f'{A[0]}\\n')\n",
    "print(f'Первая строка матрицы A является линейной комбинацией втрой и третьей строк матрицы A.')\n",
    "print(f'rank(A): 3\\n')"
   ]
  },
  {
   "cell_type": "code",
   "execution_count": 18,
   "metadata": {
    "ExecuteTime": {
     "end_time": "2019-09-15T11:02:55.589440Z",
     "start_time": "2019-09-15T11:02:55.580464Z"
    }
   },
   "outputs": [
    {
     "name": "stdout",
     "output_type": "stream",
     "text": [
      "A:\n",
      "[[0 0 2 1]\n",
      " [0 0 2 2]\n",
      " [0 0 4 3]\n",
      " [2 3 5 6]]\n",
      "\n",
      "rank(A): 3\n",
      "\n"
     ]
    }
   ],
   "source": [
    "print(f'A:\\n{A}\\n')\n",
    "print(f'rank(A): {np.linalg.matrix_rank(A)}\\n')"
   ]
  },
  {
   "cell_type": "markdown",
   "metadata": {},
   "source": [
    "#### __5*.__ Написать на Python функцию для нахождения определителя матрицы размера n x n, не используя NumPy."
   ]
  },
  {
   "cell_type": "code",
   "execution_count": 19,
   "metadata": {
    "ExecuteTime": {
     "end_time": "2019-09-15T11:02:55.602405Z",
     "start_time": "2019-09-15T11:02:55.591435Z"
    }
   },
   "outputs": [],
   "source": [
    "def matrix_determinant(A):\n",
    "    try:\n",
    "        n = len(A)\n",
    "        m = len(A[0])\n",
    "\n",
    "        if n == m:            \n",
    "            if n == 2:\n",
    "                det = A[0][0] * A[1][1] - A[0][1] * A[1][0]\n",
    "                return det\n",
    "\n",
    "            norms = []\n",
    "\n",
    "            for row in A:\n",
    "                norm = 0\n",
    "                for col in row:\n",
    "                    norm += math.sqrt(math.pow(col, 2))\n",
    "                norms.append(norm)\n",
    "\n",
    "            i = 0\n",
    "            min_norm = norms[0]\n",
    "\n",
    "            for idx, norm in enumerate(norms[1:], start=1):\n",
    "                if norm < min_norm:\n",
    "                    min_norm = norm\n",
    "                    i = idx\n",
    "            \n",
    "            det = 0\n",
    "            for j in range(m):\n",
    "                M = [[col for cidx, col in enumerate(row) if cidx != j ] for ridx, row in enumerate(A) if ridx != i]\n",
    "                sign = (-1) ** ((i + 1 + j + 1) % 2)\n",
    "                det += sign * A[i][j] * matrix_determinant(M)\n",
    "                \n",
    "            return det\n",
    "        else:\n",
    "            return 'Determinant is not defined'\n",
    "    except Exception as e:\n",
    "        return e\n",
    "    "
   ]
  },
  {
   "cell_type": "code",
   "execution_count": 20,
   "metadata": {
    "ExecuteTime": {
     "end_time": "2019-09-15T11:02:55.616368Z",
     "start_time": "2019-09-15T11:02:55.604400Z"
    }
   },
   "outputs": [
    {
     "name": "stdout",
     "output_type": "stream",
     "text": [
      "A:\n",
      " [[4 2 3]\n",
      " [0 5 1]\n",
      " [0 0 9]]\n",
      "\n",
      "Trial(det(A)): 180\n",
      "Check(det(A)): 180.0\n"
     ]
    }
   ],
   "source": [
    "A = np.array([[4, 2, 3], [0, 5, 1], [0, 0, 9]])\n",
    "\n",
    "print(f'A:\\n {A}\\n')\n",
    "print(f'Trial(det(A)): {matrix_determinant(A)}')\n",
    "print(f'Check(det(A)): {np.linalg.det(A)}')"
   ]
  },
  {
   "cell_type": "code",
   "execution_count": 21,
   "metadata": {
    "ExecuteTime": {
     "end_time": "2019-09-15T11:02:55.626354Z",
     "start_time": "2019-09-15T11:02:55.618363Z"
    }
   },
   "outputs": [
    {
     "name": "stdout",
     "output_type": "stream",
     "text": [
      "A:\n",
      " [[1 2 3]\n",
      " [4 5 6]\n",
      " [7 8 9]]\n",
      "\n",
      "Trial(det(A)): 0\n",
      "Check(det(A)): -9.51619735392994e-16\n"
     ]
    }
   ],
   "source": [
    "A = np.array([[1, 2, 3], [4, 5, 6], [7, 8, 9]])\n",
    "\n",
    "print(f'A:\\n {A}\\n')\n",
    "print(f'Trial(det(A)): {matrix_determinant(A)}')\n",
    "print(f'Check(det(A)): {np.linalg.det(A)}')"
   ]
  },
  {
   "cell_type": "code",
   "execution_count": 22,
   "metadata": {
    "ExecuteTime": {
     "end_time": "2019-09-15T11:02:55.640304Z",
     "start_time": "2019-09-15T11:02:55.628335Z"
    }
   },
   "outputs": [
    {
     "name": "stdout",
     "output_type": "stream",
     "text": [
      "A:\n",
      " [[2 5 1 3]\n",
      " [4 1 7 9]\n",
      " [6 8 3 2]\n",
      " [7 8 1 4]]\n",
      "\n",
      "Trial(det(A)): 630\n",
      "Check(det(A)): 630.0000000000001\n"
     ]
    }
   ],
   "source": [
    "A = np.array([[2, 5, 1, 3], [4, 1, 7, 9], [6, 8, 3, 2], [7, 8, 1, 4]])\n",
    "\n",
    "print(f'A:\\n {A}\\n')\n",
    "print(f'Trial(det(A)): {matrix_determinant(A)}')\n",
    "print(f'Check(det(A)): {np.linalg.det(A)}')"
   ]
  }
 ],
 "metadata": {
  "kernelspec": {
   "display_name": "Python 3",
   "language": "python",
   "name": "python3"
  },
  "language_info": {
   "codemirror_mode": {
    "name": "ipython",
    "version": 3
   },
   "file_extension": ".py",
   "mimetype": "text/x-python",
   "name": "python",
   "nbconvert_exporter": "python",
   "pygments_lexer": "ipython3",
   "version": "3.7.6"
  }
 },
 "nbformat": 4,
 "nbformat_minor": 2
}
